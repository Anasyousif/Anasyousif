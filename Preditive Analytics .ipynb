{
 "cells": [
  {
   "cell_type": "code",
   "execution_count": 2,
   "metadata": {},
   "outputs": [],
   "source": [
    "import pandas as pd\n",
    "import numpy as np\n",
    "import matplotlib.pyplot as plt\n",
    "import statsmodels.graphics.tsaplots as sgt\n",
    "from statsmodels.tsa.arima_model import ARMA\n",
    "from scipy.stats.distributions import chi2\n",
    "import statsmodels.tsa.stattools as sts \n",
    "import seaborn as sns\n",
    "sns.set()"
   ]
  },
  {
   "cell_type": "code",
   "execution_count": 3,
   "metadata": {},
   "outputs": [],
   "source": [
    "raw_csv_data = pd.read_csv(r\"C:\\Users\\Anas\\Desktop\\Projects for Data Science/Index2018.csv\") \n",
    "df_comp=raw_csv_data.copy()\n",
    "df_comp.date = pd.to_datetime(df_comp.date, dayfirst = True)\n",
    "df_comp.set_index(\"date\", inplace=True)\n",
    "df_comp=df_comp.asfreq('b')\n",
    "df_comp=df_comp.fillna(method='ffill')"
   ]
  },
  {
   "cell_type": "code",
   "execution_count": 4,
   "metadata": {},
   "outputs": [],
   "source": [
    "df_comp['market_value']=df_comp.ftse"
   ]
  },
  {
   "cell_type": "code",
   "execution_count": 5,
   "metadata": {},
   "outputs": [],
   "source": [
    "del df_comp['spx']\n",
    "del df_comp['dax']\n",
    "del df_comp['ftse']\n",
    "del df_comp['nikkei']\n",
    "size = int(len(df_comp)*0.8)\n",
    "df, df_test = df_comp.iloc[:size], df_comp.iloc[size:]"
   ]
  },
  {
   "cell_type": "code",
   "execution_count": 6,
   "metadata": {},
   "outputs": [
    {
     "data": {
      "image/png": "[encoded data removed]",
      "text/plain": [
       "<Figure size 432x288 with 1 Axes>"
      ]
     },
     "metadata": {},
     "output_type": "display_data"
    }
   ],
   "source": [
    "sgt.plot_acf(df.market_value, zero = False, lags = 40)\n",
    "plt.title(\"ACF for Prices\", size = 20)\n",
    "plt.show()"
   ]
  },
  {
   "cell_type": "code",
   "execution_count": 7,
   "metadata": {},
   "outputs": [],
   "source": [
    "import warnings\n",
    "warnings.filterwarnings(\"ignore\")"
   ]
  },
  {
   "cell_type": "code",
   "execution_count": 8,
   "metadata": {},
   "outputs": [
    {
     "data": {
      "image/png": "[encoded data removed]",
      "text/plain": [
       "<Figure size 432x288 with 1 Axes>"
      ]
     },
     "metadata": {},
     "output_type": "display_data"
    }
   ],
   "source": [
    "sgt.plot_pacf(df.market_value, lags = 40, alpha = 0.05, zero = False, method = ('ols'))\n",
    "plt.title(\"PACF for Prices\", size = 20)\n",
    "plt.show()"
   ]
  },
  {
   "cell_type": "code",
   "execution_count": 9,
   "metadata": {},
   "outputs": [],
   "source": [
    "model_ar = ARMA(df.market_value, order=(1,0))"
   ]
  },
  {
   "cell_type": "code",
   "execution_count": 10,
   "metadata": {},
   "outputs": [],
   "source": [
    "results_ar = model_ar.fit()"
   ]
  },
  {
   "cell_type": "code",
   "execution_count": 11,
   "metadata": {},
   "outputs": [
    {
     "data": {
      "text/html": [
       "<table class=\"simpletable\">\n",
       "<caption>ARMA Model Results</caption>\n",
       "<tr>\n",
       "  <th>Dep. Variable:</th>   <td>market_value</td>   <th>  No. Observations:  </th>    <td>5021</td>   \n",
       "</tr>\n",
       "<tr>\n",
       "  <th>Model:</th>            <td>ARMA(1, 0)</td>    <th>  Log Likelihood     </th> <td>-27622.598</td>\n",
       "</tr>\n",
       "<tr>\n",
       "  <th>Method:</th>             <td>css-mle</td>     <th>  S.D. of innovations</th>   <td>59.258</td>  \n",
       "</tr>\n",
       "<tr>\n",
       "  <th>Date:</th>          <td>Mon, 04 Oct 2021</td> <th>  AIC                </th>  <td>55251.196</td>\n",
       "</tr>\n",
       "<tr>\n",
       "  <th>Time:</th>              <td>07:17:39</td>     <th>  BIC                </th>  <td>55270.760</td>\n",
       "</tr>\n",
       "<tr>\n",
       "  <th>Sample:</th>           <td>01-07-1994</td>    <th>  HQIC               </th>  <td>55258.052</td>\n",
       "</tr>\n",
       "<tr>\n",
       "  <th></th>                 <td>- 04-05-2013</td>   <th>                     </th>      <td> </td>    \n",
       "</tr>\n",
       "</table>\n",
       "<table class=\"simpletable\">\n",
       "<tr>\n",
       "           <td></td>             <th>coef</th>     <th>std err</th>      <th>z</th>      <th>P>|z|</th>  <th>[0.025</th>    <th>0.975]</th>  \n",
       "</tr>\n",
       "<tr>\n",
       "  <th>const</th>              <td> 5055.8541</td> <td>  485.798</td> <td>   10.407</td> <td> 0.000</td> <td> 4103.707</td> <td> 6008.001</td>\n",
       "</tr>\n",
       "<tr>\n",
       "  <th>ar.L1.market_value</th> <td>    0.9985</td> <td>    0.001</td> <td> 1298.620</td> <td> 0.000</td> <td>    0.997</td> <td>    1.000</td>\n",
       "</tr>\n",
       "</table>\n",
       "<table class=\"simpletable\">\n",
       "<caption>Roots</caption>\n",
       "<tr>\n",
       "    <td></td>   <th>            Real</th>  <th>         Imaginary</th> <th>         Modulus</th>  <th>        Frequency</th>\n",
       "</tr>\n",
       "<tr>\n",
       "  <th>AR.1</th> <td>           1.0015</td> <td>          +0.0000j</td> <td>           1.0015</td> <td>           0.0000</td>\n",
       "</tr>\n",
       "</table>"
      ],
      "text/plain": [
       "<class 'statsmodels.iolib.summary.Summary'>\n",
       "\"\"\"\n",
       "                              ARMA Model Results                              \n",
       "==============================================================================\n",
       "Dep. Variable:           market_value   No. Observations:                 5021\n",
       "Model:                     ARMA(1, 0)   Log Likelihood              -27622.598\n",
       "Method:                       css-mle   S.D. of innovations             59.258\n",
       "Date:                Mon, 04 Oct 2021   AIC                          55251.196\n",
       "Time:                        07:17:39   BIC                          55270.760\n",
       "Sample:                    01-07-1994   HQIC                         55258.052\n",
       "                         - 04-05-2013                                         \n",
       "======================================================================================\n",
       "                         coef    std err          z      P>|z|      [0.025      0.975]\n",
       "--------------------------------------------------------------------------------------\n",
       "const               5055.8541    485.798     10.407      0.000    4103.707    6008.001\n",
       "ar.L1.market_value     0.9985      0.001   1298.620      0.000       0.997       1.000\n",
       "                                    Roots                                    \n",
       "=============================================================================\n",
       "                  Real          Imaginary           Modulus         Frequency\n",
       "-----------------------------------------------------------------------------\n",
       "AR.1            1.0015           +0.0000j            1.0015            0.0000\n",
       "-----------------------------------------------------------------------------\n",
       "\"\"\""
      ]
     },
     "execution_count": 11,
     "metadata": {},
     "output_type": "execute_result"
    }
   ],
   "source": [
    "results_ar.summary()"
   ]
  },
  {
   "cell_type": "code",
   "execution_count": 12,
   "metadata": {},
   "outputs": [
    {
     "data": {
      "text/html": [
       "<table class=\"simpletable\">\n",
       "<caption>ARMA Model Results</caption>\n",
       "<tr>\n",
       "  <th>Dep. Variable:</th>   <td>market_value</td>   <th>  No. Observations:  </th>    <td>5021</td>   \n",
       "</tr>\n",
       "<tr>\n",
       "  <th>Model:</th>            <td>ARMA(2, 0)</td>    <th>  Log Likelihood     </th> <td>-27621.871</td>\n",
       "</tr>\n",
       "<tr>\n",
       "  <th>Method:</th>             <td>css-mle</td>     <th>  S.D. of innovations</th>   <td>59.249</td>  \n",
       "</tr>\n",
       "<tr>\n",
       "  <th>Date:</th>          <td>Mon, 04 Oct 2021</td> <th>  AIC                </th>  <td>55251.742</td>\n",
       "</tr>\n",
       "<tr>\n",
       "  <th>Time:</th>              <td>07:17:50</td>     <th>  BIC                </th>  <td>55277.827</td>\n",
       "</tr>\n",
       "<tr>\n",
       "  <th>Sample:</th>           <td>01-07-1994</td>    <th>  HQIC               </th>  <td>55260.883</td>\n",
       "</tr>\n",
       "<tr>\n",
       "  <th></th>                 <td>- 04-05-2013</td>   <th>                     </th>      <td> </td>    \n",
       "</tr>\n",
       "</table>\n",
       "<table class=\"simpletable\">\n",
       "<tr>\n",
       "           <td></td>             <th>coef</th>     <th>std err</th>      <th>z</th>      <th>P>|z|</th>  <th>[0.025</th>    <th>0.975]</th>  \n",
       "</tr>\n",
       "<tr>\n",
       "  <th>const</th>              <td> 5089.6410</td> <td>  495.719</td> <td>   10.267</td> <td> 0.000</td> <td> 4118.050</td> <td> 6061.232</td>\n",
       "</tr>\n",
       "<tr>\n",
       "  <th>ar.L1.market_value</th> <td>    0.9814</td> <td>    0.014</td> <td>   69.595</td> <td> 0.000</td> <td>    0.954</td> <td>    1.009</td>\n",
       "</tr>\n",
       "<tr>\n",
       "  <th>ar.L2.market_value</th> <td>    0.0171</td> <td>    0.014</td> <td>    1.211</td> <td> 0.226</td> <td>   -0.011</td> <td>    0.045</td>\n",
       "</tr>\n",
       "</table>\n",
       "<table class=\"simpletable\">\n",
       "<caption>Roots</caption>\n",
       "<tr>\n",
       "    <td></td>   <th>            Real</th>  <th>         Imaginary</th> <th>         Modulus</th>  <th>        Frequency</th>\n",
       "</tr>\n",
       "<tr>\n",
       "  <th>AR.1</th> <td>           1.0015</td> <td>          +0.0000j</td> <td>           1.0015</td> <td>           0.0000</td>\n",
       "</tr>\n",
       "<tr>\n",
       "  <th>AR.2</th> <td>         -58.4624</td> <td>          +0.0000j</td> <td>          58.4624</td> <td>           0.5000</td>\n",
       "</tr>\n",
       "</table>"
      ],
      "text/plain": [
       "<class 'statsmodels.iolib.summary.Summary'>\n",
       "\"\"\"\n",
       "                              ARMA Model Results                              \n",
       "==============================================================================\n",
       "Dep. Variable:           market_value   No. Observations:                 5021\n",
       "Model:                     ARMA(2, 0)   Log Likelihood              -27621.871\n",
       "Method:                       css-mle   S.D. of innovations             59.249\n",
       "Date:                Mon, 04 Oct 2021   AIC                          55251.742\n",
       "Time:                        07:17:50   BIC                          55277.827\n",
       "Sample:                    01-07-1994   HQIC                         55260.883\n",
       "                         - 04-05-2013                                         \n",
       "======================================================================================\n",
       "                         coef    std err          z      P>|z|      [0.025      0.975]\n",
       "--------------------------------------------------------------------------------------\n",
       "const               5089.6410    495.719     10.267      0.000    4118.050    6061.232\n",
       "ar.L1.market_value     0.9814      0.014     69.595      0.000       0.954       1.009\n",
       "ar.L2.market_value     0.0171      0.014      1.211      0.226      -0.011       0.045\n",
       "                                    Roots                                    \n",
       "=============================================================================\n",
       "                  Real          Imaginary           Modulus         Frequency\n",
       "-----------------------------------------------------------------------------\n",
       "AR.1            1.0015           +0.0000j            1.0015            0.0000\n",
       "AR.2          -58.4624           +0.0000j           58.4624            0.5000\n",
       "-----------------------------------------------------------------------------\n",
       "\"\"\""
      ]
     },
     "execution_count": 12,
     "metadata": {},
     "output_type": "execute_result"
    }
   ],
   "source": [
    "model_ar_2 = ARMA(df.market_value, order=(2,0))\n",
    "results_ar_2 = model_ar_2.fit()\n",
    "results_ar_2.summary()"
   ]
  },
  {
   "cell_type": "code",
   "execution_count": 13,
   "metadata": {},
   "outputs": [
    {
     "data": {
      "text/html": [
       "<table class=\"simpletable\">\n",
       "<caption>ARMA Model Results</caption>\n",
       "<tr>\n",
       "  <th>Dep. Variable:</th>   <td>market_value</td>   <th>  No. Observations:  </th>    <td>5021</td>   \n",
       "</tr>\n",
       "<tr>\n",
       "  <th>Model:</th>            <td>ARMA(3, 0)</td>    <th>  Log Likelihood     </th> <td>-27615.992</td>\n",
       "</tr>\n",
       "<tr>\n",
       "  <th>Method:</th>             <td>css-mle</td>     <th>  S.D. of innovations</th>   <td>59.179</td>  \n",
       "</tr>\n",
       "<tr>\n",
       "  <th>Date:</th>          <td>Mon, 04 Oct 2021</td> <th>  AIC                </th>  <td>55241.985</td>\n",
       "</tr>\n",
       "<tr>\n",
       "  <th>Time:</th>              <td>07:18:05</td>     <th>  BIC                </th>  <td>55274.591</td>\n",
       "</tr>\n",
       "<tr>\n",
       "  <th>Sample:</th>           <td>01-07-1994</td>    <th>  HQIC               </th>  <td>55253.410</td>\n",
       "</tr>\n",
       "<tr>\n",
       "  <th></th>                 <td>- 04-05-2013</td>   <th>                     </th>      <td> </td>    \n",
       "</tr>\n",
       "</table>\n",
       "<table class=\"simpletable\">\n",
       "<tr>\n",
       "           <td></td>             <th>coef</th>     <th>std err</th>      <th>z</th>      <th>P>|z|</th>  <th>[0.025</th>    <th>0.975]</th>  \n",
       "</tr>\n",
       "<tr>\n",
       "  <th>const</th>              <td> 5301.3440</td> <td>  607.662</td> <td>    8.724</td> <td> 0.000</td> <td> 4110.347</td> <td> 6492.341</td>\n",
       "</tr>\n",
       "<tr>\n",
       "  <th>ar.L1.market_value</th> <td>    0.9806</td> <td>    0.014</td> <td>   69.632</td> <td> 0.000</td> <td>    0.953</td> <td>    1.008</td>\n",
       "</tr>\n",
       "<tr>\n",
       "  <th>ar.L2.market_value</th> <td>   -0.0308</td> <td>    0.020</td> <td>   -1.562</td> <td> 0.118</td> <td>   -0.070</td> <td>    0.008</td>\n",
       "</tr>\n",
       "<tr>\n",
       "  <th>ar.L3.market_value</th> <td>    0.0489</td> <td>    0.014</td> <td>    3.468</td> <td> 0.001</td> <td>    0.021</td> <td>    0.077</td>\n",
       "</tr>\n",
       "</table>\n",
       "<table class=\"simpletable\">\n",
       "<caption>Roots</caption>\n",
       "<tr>\n",
       "    <td></td>   <th>            Real</th>  <th>         Imaginary</th> <th>         Modulus</th>  <th>        Frequency</th>\n",
       "</tr>\n",
       "<tr>\n",
       "  <th>AR.1</th> <td>           1.0012</td> <td>          -0.0000j</td> <td>           1.0012</td> <td>          -0.0000</td>\n",
       "</tr>\n",
       "<tr>\n",
       "  <th>AR.2</th> <td>          -0.1854</td> <td>          -4.5146j</td> <td>           4.5184</td> <td>          -0.2565</td>\n",
       "</tr>\n",
       "<tr>\n",
       "  <th>AR.3</th> <td>          -0.1854</td> <td>          +4.5146j</td> <td>           4.5184</td> <td>           0.2565</td>\n",
       "</tr>\n",
       "</table>"
      ],
      "text/plain": [
       "<class 'statsmodels.iolib.summary.Summary'>\n",
       "\"\"\"\n",
       "                              ARMA Model Results                              \n",
       "==============================================================================\n",
       "Dep. Variable:           market_value   No. Observations:                 5021\n",
       "Model:                     ARMA(3, 0)   Log Likelihood              -27615.992\n",
       "Method:                       css-mle   S.D. of innovations             59.179\n",
       "Date:                Mon, 04 Oct 2021   AIC                          55241.985\n",
       "Time:                        07:18:05   BIC                          55274.591\n",
       "Sample:                    01-07-1994   HQIC                         55253.410\n",
       "                         - 04-05-2013                                         \n",
       "======================================================================================\n",
       "                         coef    std err          z      P>|z|      [0.025      0.975]\n",
       "--------------------------------------------------------------------------------------\n",
       "const               5301.3440    607.662      8.724      0.000    4110.347    6492.341\n",
       "ar.L1.market_value     0.9806      0.014     69.632      0.000       0.953       1.008\n",
       "ar.L2.market_value    -0.0308      0.020     -1.562      0.118      -0.070       0.008\n",
       "ar.L3.market_value     0.0489      0.014      3.468      0.001       0.021       0.077\n",
       "                                    Roots                                    \n",
       "=============================================================================\n",
       "                  Real          Imaginary           Modulus         Frequency\n",
       "-----------------------------------------------------------------------------\n",
       "AR.1            1.0012           -0.0000j            1.0012           -0.0000\n",
       "AR.2           -0.1854           -4.5146j            4.5184           -0.2565\n",
       "AR.3           -0.1854           +4.5146j            4.5184            0.2565\n",
       "-----------------------------------------------------------------------------\n",
       "\"\"\""
      ]
     },
     "execution_count": 13,
     "metadata": {},
     "output_type": "execute_result"
    }
   ],
   "source": [
    "model_ar_3 = ARMA(df.market_value, order=(3,0))\n",
    "results_ar_3 = model_ar_3.fit()\n",
    "results_ar_3.summary()"
   ]
  },
  {
   "cell_type": "code",
   "execution_count": 14,
   "metadata": {},
   "outputs": [
    {
     "data": {
      "text/html": [
       "<table class=\"simpletable\">\n",
       "<caption>ARMA Model Results</caption>\n",
       "<tr>\n",
       "  <th>Dep. Variable:</th>   <td>market_value</td>   <th>  No. Observations:  </th>    <td>5021</td>   \n",
       "</tr>\n",
       "<tr>\n",
       "  <th>Model:</th>            <td>ARMA(4, 0)</td>    <th>  Log Likelihood     </th> <td>-27602.565</td>\n",
       "</tr>\n",
       "<tr>\n",
       "  <th>Method:</th>             <td>css-mle</td>     <th>  S.D. of innovations</th>   <td>59.022</td>  \n",
       "</tr>\n",
       "<tr>\n",
       "  <th>Date:</th>          <td>Mon, 04 Oct 2021</td> <th>  AIC                </th>  <td>55217.130</td>\n",
       "</tr>\n",
       "<tr>\n",
       "  <th>Time:</th>              <td>07:19:19</td>     <th>  BIC                </th>  <td>55256.258</td>\n",
       "</tr>\n",
       "<tr>\n",
       "  <th>Sample:</th>           <td>01-07-1994</td>    <th>  HQIC               </th>  <td>55230.841</td>\n",
       "</tr>\n",
       "<tr>\n",
       "  <th></th>                 <td>- 04-05-2013</td>   <th>                     </th>      <td> </td>    \n",
       "</tr>\n",
       "</table>\n",
       "<table class=\"simpletable\">\n",
       "<tr>\n",
       "           <td></td>             <th>coef</th>     <th>std err</th>      <th>z</th>      <th>P>|z|</th>  <th>[0.025</th>    <th>0.975]</th>  \n",
       "</tr>\n",
       "<tr>\n",
       "  <th>const</th>              <td> 5089.6416</td> <td>  560.007</td> <td>    9.089</td> <td> 0.000</td> <td> 3992.048</td> <td> 6187.235</td>\n",
       "</tr>\n",
       "<tr>\n",
       "  <th>ar.L1.market_value</th> <td>    0.9770</td> <td>    0.014</td> <td>   69.492</td> <td> 0.000</td> <td>    0.949</td> <td>    1.005</td>\n",
       "</tr>\n",
       "<tr>\n",
       "  <th>ar.L2.market_value</th> <td>   -0.0286</td> <td>    0.020</td> <td>   -1.455</td> <td> 0.146</td> <td>   -0.067</td> <td>    0.010</td>\n",
       "</tr>\n",
       "<tr>\n",
       "  <th>ar.L3.market_value</th> <td>   -0.0224</td> <td>    0.020</td> <td>   -1.135</td> <td> 0.256</td> <td>   -0.061</td> <td>    0.016</td>\n",
       "</tr>\n",
       "<tr>\n",
       "  <th>ar.L4.market_value</th> <td>    0.0728</td> <td>    0.014</td> <td>    5.166</td> <td> 0.000</td> <td>    0.045</td> <td>    0.100</td>\n",
       "</tr>\n",
       "</table>\n",
       "<table class=\"simpletable\">\n",
       "<caption>Roots</caption>\n",
       "<tr>\n",
       "    <td></td>   <th>            Real</th>  <th>         Imaginary</th> <th>         Modulus</th>  <th>        Frequency</th>\n",
       "</tr>\n",
       "<tr>\n",
       "  <th>AR.1</th> <td>           1.0011</td> <td>          -0.0000j</td> <td>           1.0011</td> <td>          -0.0000</td>\n",
       "</tr>\n",
       "<tr>\n",
       "  <th>AR.2</th> <td>           0.9550</td> <td>          -2.0884j</td> <td>           2.2964</td> <td>          -0.1817</td>\n",
       "</tr>\n",
       "<tr>\n",
       "  <th>AR.3</th> <td>           0.9550</td> <td>          +2.0884j</td> <td>           2.2964</td> <td>           0.1817</td>\n",
       "</tr>\n",
       "<tr>\n",
       "  <th>AR.4</th> <td>          -2.6036</td> <td>          -0.0000j</td> <td>           2.6036</td> <td>          -0.5000</td>\n",
       "</tr>\n",
       "</table>"
      ],
      "text/plain": [
       "<class 'statsmodels.iolib.summary.Summary'>\n",
       "\"\"\"\n",
       "                              ARMA Model Results                              \n",
       "==============================================================================\n",
       "Dep. Variable:           market_value   No. Observations:                 5021\n",
       "Model:                     ARMA(4, 0)   Log Likelihood              -27602.565\n",
       "Method:                       css-mle   S.D. of innovations             59.022\n",
       "Date:                Mon, 04 Oct 2021   AIC                          55217.130\n",
       "Time:                        07:19:19   BIC                          55256.258\n",
       "Sample:                    01-07-1994   HQIC                         55230.841\n",
       "                         - 04-05-2013                                         \n",
       "======================================================================================\n",
       "                         coef    std err          z      P>|z|      [0.025      0.975]\n",
       "--------------------------------------------------------------------------------------\n",
       "const               5089.6416    560.007      9.089      0.000    3992.048    6187.235\n",
       "ar.L1.market_value     0.9770      0.014     69.492      0.000       0.949       1.005\n",
       "ar.L2.market_value    -0.0286      0.020     -1.455      0.146      -0.067       0.010\n",
       "ar.L3.market_value    -0.0224      0.020     -1.135      0.256      -0.061       0.016\n",
       "ar.L4.market_value     0.0728      0.014      5.166      0.000       0.045       0.100\n",
       "                                    Roots                                    \n",
       "=============================================================================\n",
       "                  Real          Imaginary           Modulus         Frequency\n",
       "-----------------------------------------------------------------------------\n",
       "AR.1            1.0011           -0.0000j            1.0011           -0.0000\n",
       "AR.2            0.9550           -2.0884j            2.2964           -0.1817\n",
       "AR.3            0.9550           +2.0884j            2.2964            0.1817\n",
       "AR.4           -2.6036           -0.0000j            2.6036           -0.5000\n",
       "-----------------------------------------------------------------------------\n",
       "\"\"\""
      ]
     },
     "execution_count": 14,
     "metadata": {},
     "output_type": "execute_result"
    }
   ],
   "source": [
    "model_ar_4 = ARMA(df.market_value, order=[4,0])\n",
    "results_ar_4 = model_ar_4.fit()\n",
    "results_ar_4.summary()"
   ]
  },
  {
   "cell_type": "code",
   "execution_count": 15,
   "metadata": {},
   "outputs": [],
   "source": [
    "def LLR_test(mod_1, mod_2, DF=1):\n",
    "    L1 = mod_1.fit().llf\n",
    "    L2 = mod_2.fit().llf\n",
    "    LR = (2*(L2-L1))\n",
    "    p = chi2.sf(LR, DF).round(3)\n",
    "    return p"
   ]
  },
  {
   "cell_type": "code",
   "execution_count": 16,
   "metadata": {},
   "outputs": [
    {
     "data": {
      "text/plain": [
       "0.0"
      ]
     },
     "execution_count": 16,
     "metadata": {},
     "output_type": "execute_result"
    }
   ],
   "source": [
    "LLR_test(model_ar_3, model_ar_4)"
   ]
  },
  {
   "cell_type": "code",
   "execution_count": 17,
   "metadata": {},
   "outputs": [
    {
     "name": "stdout",
     "output_type": "stream",
     "text": [
      "                              ARMA Model Results                              \n",
      "==============================================================================\n",
      "Dep. Variable:           market_value   No. Observations:                 5021\n",
      "Model:                     ARMA(4, 0)   Log Likelihood              -27602.565\n",
      "Method:                       css-mle   S.D. of innovations             59.022\n",
      "Date:                Mon, 04 Oct 2021   AIC                          55217.130\n",
      "Time:                        07:20:53   BIC                          55256.258\n",
      "Sample:                    01-07-1994   HQIC                         55230.841\n",
      "                         - 04-05-2013                                         \n",
      "======================================================================================\n",
      "                         coef    std err          z      P>|z|      [0.025      0.975]\n",
      "--------------------------------------------------------------------------------------\n",
      "const               5089.6416    560.007      9.089      0.000    3992.048    6187.235\n",
      "ar.L1.market_value     0.9770      0.014     69.492      0.000       0.949       1.005\n",
      "ar.L2.market_value    -0.0286      0.020     -1.455      0.146      -0.067       0.010\n",
      "ar.L3.market_value    -0.0224      0.020     -1.135      0.256      -0.061       0.016\n",
      "ar.L4.market_value     0.0728      0.014      5.166      0.000       0.045       0.100\n",
      "                                    Roots                                    \n",
      "=============================================================================\n",
      "                  Real          Imaginary           Modulus         Frequency\n",
      "-----------------------------------------------------------------------------\n",
      "AR.1            1.0011           -0.0000j            1.0011           -0.0000\n",
      "AR.2            0.9550           -2.0884j            2.2964           -0.1817\n",
      "AR.3            0.9550           +2.0884j            2.2964            0.1817\n",
      "AR.4           -2.6036           -0.0000j            2.6036           -0.5000\n",
      "-----------------------------------------------------------------------------\n",
      "LLR test: 0.0\n"
     ]
    }
   ],
   "source": [
    "model_ar_4 = ARMA(df.market_value, order=[4,0])\n",
    "results_ar_4 = model_ar_4.fit()\n",
    "print(results_ar_4.summary()) \n",
    "print (\"LLR test: \" + str(LLR_test(model_ar_3, model_ar_4)))"
   ]
  },
  {
   "cell_type": "code",
   "execution_count": 18,
   "metadata": {},
   "outputs": [
    {
     "name": "stdout",
     "output_type": "stream",
     "text": [
      "                              ARMA Model Results                              \n",
      "==============================================================================\n",
      "Dep. Variable:           market_value   No. Observations:                 5021\n",
      "Model:                     ARMA(5, 0)   Log Likelihood              -27600.348\n",
      "Method:                       css-mle   S.D. of innovations             58.996\n",
      "Date:                Mon, 04 Oct 2021   AIC                          55214.697\n",
      "Time:                        07:21:05   BIC                          55260.346\n",
      "Sample:                    01-07-1994   HQIC                         55230.693\n",
      "                         - 04-05-2013                                         \n",
      "======================================================================================\n",
      "                         coef    std err          z      P>|z|      [0.025      0.975]\n",
      "--------------------------------------------------------------------------------------\n",
      "const               5089.6413    543.567      9.363      0.000    4024.270    6155.012\n",
      "ar.L1.market_value     0.9791      0.014     69.481      0.000       0.952       1.007\n",
      "ar.L2.market_value    -0.0293      0.020     -1.488      0.137      -0.068       0.009\n",
      "ar.L3.market_value    -0.0232      0.020     -1.178      0.239      -0.062       0.015\n",
      "ar.L4.market_value     0.1018      0.020      5.166      0.000       0.063       0.140\n",
      "ar.L5.market_value    -0.0297      0.014     -2.106      0.035      -0.057      -0.002\n",
      "                                    Roots                                    \n",
      "=============================================================================\n",
      "                  Real          Imaginary           Modulus         Frequency\n",
      "-----------------------------------------------------------------------------\n",
      "AR.1            1.0012           -0.0000j            1.0012           -0.0000\n",
      "AR.2           -2.0605           -0.0000j            2.0605           -0.5000\n",
      "AR.3            0.4270           -2.0763j            2.1198           -0.2177\n",
      "AR.4            0.4270           +2.0763j            2.1198            0.2177\n",
      "AR.5            3.6286           -0.0000j            3.6286           -0.0000\n",
      "-----------------------------------------------------------------------------\n",
      "\n",
      "LLR test p-value = 0.035\n"
     ]
    }
   ],
   "source": [
    "model_ar_5 = ARMA(df.market_value, order=(5,0))\n",
    "results_ar_5 = model_ar_5.fit()\n",
    "print(results_ar_5.summary())\n",
    "print(\"\\nLLR test p-value = \" + str(LLR_test(model_ar_4, model_ar_5)))"
   ]
  },
  {
   "cell_type": "code",
   "execution_count": 19,
   "metadata": {},
   "outputs": [
    {
     "name": "stdout",
     "output_type": "stream",
     "text": [
      "                              ARMA Model Results                              \n",
      "==============================================================================\n",
      "Dep. Variable:           market_value   No. Observations:                 5021\n",
      "Model:                     ARMA(6, 0)   Log Likelihood              -27596.474\n",
      "Method:                       css-mle   S.D. of innovations             58.950\n",
      "Date:                Mon, 04 Oct 2021   AIC                          55208.947\n",
      "Time:                        07:21:16   BIC                          55261.118\n",
      "Sample:                    01-07-1994   HQIC                         55227.229\n",
      "                         - 04-05-2013                                         \n",
      "======================================================================================\n",
      "                         coef    std err          z      P>|z|      [0.025      0.975]\n",
      "--------------------------------------------------------------------------------------\n",
      "const               5089.6415    565.218      9.005      0.000    3981.834    6197.449\n",
      "ar.L1.market_value     0.9803      0.014     69.604      0.000       0.953       1.008\n",
      "ar.L2.market_value    -0.0333      0.020     -1.687      0.092      -0.072       0.005\n",
      "ar.L3.market_value    -0.0223      0.020     -1.134      0.257      -0.061       0.016\n",
      "ar.L4.market_value     0.1029      0.020      5.227      0.000       0.064       0.141\n",
      "ar.L5.market_value    -0.0682      0.020     -3.454      0.001      -0.107      -0.029\n",
      "ar.L6.market_value     0.0393      0.014      2.785      0.005       0.012       0.067\n",
      "                                    Roots                                    \n",
      "=============================================================================\n",
      "                  Real          Imaginary           Modulus         Frequency\n",
      "-----------------------------------------------------------------------------\n",
      "AR.1            1.0011           -0.0000j            1.0011           -0.0000\n",
      "AR.2           -1.6828           -0.0000j            1.6828           -0.5000\n",
      "AR.3           -0.3031           -1.8985j            1.9226           -0.2752\n",
      "AR.4           -0.3031           +1.8985j            1.9226            0.2752\n",
      "AR.5            1.5114           -1.3426j            2.0216           -0.1156\n",
      "AR.6            1.5114           +1.3426j            2.0216            0.1156\n",
      "-----------------------------------------------------------------------------\n",
      "\n",
      "LLR test p-value = 0.005\n"
     ]
    }
   ],
   "source": [
    "model_ar_6 = ARMA(df.market_value, order=(6,0))\n",
    "results_ar_6 = model_ar_6.fit()\n",
    "print(results_ar_6.summary())\n",
    "print(\"\\nLLR test p-value = \" + str(LLR_test(model_ar_5, model_ar_6)))"
   ]
  },
  {
   "cell_type": "code",
   "execution_count": 20,
   "metadata": {},
   "outputs": [
    {
     "name": "stdout",
     "output_type": "stream",
     "text": [
      "                              ARMA Model Results                              \n",
      "==============================================================================\n",
      "Dep. Variable:           market_value   No. Observations:                 5021\n",
      "Model:                     ARMA(7, 0)   Log Likelihood              -27591.900\n",
      "Method:                       css-mle   S.D. of innovations             58.896\n",
      "Date:                Mon, 04 Oct 2021   AIC                          55201.799\n",
      "Time:                        07:21:30   BIC                          55260.492\n",
      "Sample:                    01-07-1994   HQIC                         55222.366\n",
      "                         - 04-05-2013                                         \n",
      "======================================================================================\n",
      "                         coef    std err          z      P>|z|      [0.025      0.975]\n",
      "--------------------------------------------------------------------------------------\n",
      "const               5089.6413    589.633      8.632      0.000    3933.982    6245.301\n",
      "ar.L1.market_value     0.9786      0.014     69.518      0.000       0.951       1.006\n",
      "ar.L2.market_value    -0.0304      0.020     -1.540      0.124      -0.069       0.008\n",
      "ar.L3.market_value    -0.0267      0.020     -1.353      0.176      -0.065       0.012\n",
      "ar.L4.market_value     0.1038      0.020      5.278      0.000       0.065       0.142\n",
      "ar.L5.market_value    -0.0668      0.020     -3.385      0.001      -0.105      -0.028\n",
      "ar.L6.market_value    -0.0025      0.020     -0.127      0.899      -0.041       0.036\n",
      "ar.L7.market_value     0.0427      0.014      3.026      0.002       0.015       0.070\n",
      "                                    Roots                                    \n",
      "=============================================================================\n",
      "                  Real          Imaginary           Modulus         Frequency\n",
      "-----------------------------------------------------------------------------\n",
      "AR.1            1.0010           -0.0000j            1.0010           -0.0000\n",
      "AR.2            1.3301           -0.9296j            1.6228           -0.0971\n",
      "AR.3            1.3301           +0.9296j            1.6228            0.0971\n",
      "AR.4           -0.0400           -1.5870j            1.5875           -0.2540\n",
      "AR.5           -0.0400           +1.5870j            1.5875            0.2540\n",
      "AR.6           -1.7612           -0.6517j            1.8779           -0.4436\n",
      "AR.7           -1.7612           +0.6517j            1.8779            0.4436\n",
      "-----------------------------------------------------------------------------\n",
      "\n",
      "LLR test p-value = 0.002\n"
     ]
    }
   ],
   "source": [
    "model_ar_7 = ARMA(df.market_value, order=(7,0))\n",
    "results_ar_7 = model_ar_7.fit()\n",
    "print(results_ar_7.summary())\n",
    "print(\"\\nLLR test p-value = \" + str(LLR_test(model_ar_6, model_ar_7)))"
   ]
  },
  {
   "cell_type": "code",
   "execution_count": 21,
   "metadata": {},
   "outputs": [
    {
     "name": "stdout",
     "output_type": "stream",
     "text": [
      "                              ARMA Model Results                              \n",
      "==============================================================================\n",
      "Dep. Variable:           market_value   No. Observations:                 5021\n",
      "Model:                     ARMA(8, 0)   Log Likelihood              -27591.739\n",
      "Method:                       css-mle   S.D. of innovations             58.894\n",
      "Date:                Mon, 04 Oct 2021   AIC                          55203.478\n",
      "Time:                        07:21:48   BIC                          55268.692\n",
      "Sample:                    01-07-1994   HQIC                         55226.329\n",
      "                         - 04-05-2013                                         \n",
      "======================================================================================\n",
      "                         coef    std err          z      P>|z|      [0.025      0.975]\n",
      "--------------------------------------------------------------------------------------\n",
      "const               5089.6415    585.002      8.700      0.000    3943.058    6236.225\n",
      "ar.L1.market_value     0.9790      0.014     69.476      0.000       0.951       1.007\n",
      "ar.L2.market_value    -0.0304      0.020     -1.541      0.123      -0.069       0.008\n",
      "ar.L3.market_value    -0.0272      0.020     -1.379      0.168      -0.066       0.011\n",
      "ar.L4.market_value     0.1047      0.020      5.306      0.000       0.066       0.143\n",
      "ar.L5.market_value    -0.0670      0.020     -3.396      0.001      -0.106      -0.028\n",
      "ar.L6.market_value    -0.0028      0.020     -0.140      0.889      -0.041       0.036\n",
      "ar.L7.market_value     0.0505      0.020      2.559      0.010       0.012       0.089\n",
      "ar.L8.market_value    -0.0080      0.014     -0.567      0.571      -0.036       0.020\n",
      "                                    Roots                                    \n",
      "=============================================================================\n",
      "                  Real          Imaginary           Modulus         Frequency\n",
      "-----------------------------------------------------------------------------\n",
      "AR.1            1.0010           -0.0000j            1.0010           -0.0000\n",
      "AR.2           -1.6223           -0.6323j            1.7412           -0.4409\n",
      "AR.3           -1.6223           +0.6323j            1.7412            0.4409\n",
      "AR.4           -0.0911           -1.5626j            1.5653           -0.2593\n",
      "AR.5           -0.0911           +1.5626j            1.5653            0.2593\n",
      "AR.6            1.3256           -1.0019j            1.6616           -0.1030\n",
      "AR.7            1.3256           +1.0019j            1.6616            0.1030\n",
      "AR.8            6.0865           -0.0000j            6.0865           -0.0000\n",
      "-----------------------------------------------------------------------------\n",
      "\n",
      "LLR test p-value = 0.571\n"
     ]
    }
   ],
   "source": [
    "model_ar_8 = ARMA(df.market_value, order=(8,0))\n",
    "results_ar_8 = model_ar_8.fit()\n",
    "print(results_ar_8.summary())\n",
    "print(\"\\nLLR test p-value = \" + str(LLR_test(model_ar_7, model_ar_8)))"
   ]
  },
  {
   "cell_type": "code",
   "execution_count": 22,
   "metadata": {},
   "outputs": [
    {
     "name": "stdout",
     "output_type": "stream",
     "text": [
      "                              ARMA Model Results                              \n",
      "==============================================================================\n",
      "Dep. Variable:           market_value   No. Observations:                 5021\n",
      "Model:                     ARMA(8, 0)   Log Likelihood              -27591.739\n",
      "Method:                       css-mle   S.D. of innovations             58.894\n",
      "Date:                Mon, 04 Oct 2021   AIC                          55203.478\n",
      "Time:                        07:22:00   BIC                          55268.692\n",
      "Sample:                    01-07-1994   HQIC                         55226.329\n",
      "                         - 04-05-2013                                         \n",
      "======================================================================================\n",
      "                         coef    std err          z      P>|z|      [0.025      0.975]\n",
      "--------------------------------------------------------------------------------------\n",
      "const               5089.6415    585.002      8.700      0.000    3943.058    6236.225\n",
      "ar.L1.market_value     0.9790      0.014     69.476      0.000       0.951       1.007\n",
      "ar.L2.market_value    -0.0304      0.020     -1.541      0.123      -0.069       0.008\n",
      "ar.L3.market_value    -0.0272      0.020     -1.379      0.168      -0.066       0.011\n",
      "ar.L4.market_value     0.1047      0.020      5.306      0.000       0.066       0.143\n",
      "ar.L5.market_value    -0.0670      0.020     -3.396      0.001      -0.106      -0.028\n",
      "ar.L6.market_value    -0.0028      0.020     -0.140      0.889      -0.041       0.036\n",
      "ar.L7.market_value     0.0505      0.020      2.559      0.010       0.012       0.089\n",
      "ar.L8.market_value    -0.0080      0.014     -0.567      0.571      -0.036       0.020\n",
      "                                    Roots                                    \n",
      "=============================================================================\n",
      "                  Real          Imaginary           Modulus         Frequency\n",
      "-----------------------------------------------------------------------------\n",
      "AR.1            1.0010           -0.0000j            1.0010           -0.0000\n",
      "AR.2           -1.6223           -0.6323j            1.7412           -0.4409\n",
      "AR.3           -1.6223           +0.6323j            1.7412            0.4409\n",
      "AR.4           -0.0911           -1.5626j            1.5653           -0.2593\n",
      "AR.5           -0.0911           +1.5626j            1.5653            0.2593\n",
      "AR.6            1.3256           -1.0019j            1.6616           -0.1030\n",
      "AR.7            1.3256           +1.0019j            1.6616            0.1030\n",
      "AR.8            6.0865           -0.0000j            6.0865           -0.0000\n",
      "-----------------------------------------------------------------------------\n",
      "\n",
      "LLR test p-value = 0.571\n"
     ]
    }
   ],
   "source": [
    "model_ar_8 = ARMA(df.market_value, order=(8,0))\n",
    "results_ar_8 = model_ar_8.fit()\n",
    "print(results_ar_8.summary())\n",
    "print(\"\\nLLR test p-value = \" + str(LLR_test(model_ar_7, model_ar_8)))"
   ]
  },
  {
   "cell_type": "code",
   "execution_count": 23,
   "metadata": {},
   "outputs": [],
   "source": [
    "df['res_price'] = results_ar_7.resid"
   ]
  },
  {
   "cell_type": "code",
   "execution_count": 24,
   "metadata": {},
   "outputs": [
    {
     "data": {
      "text/plain": [
       "0.3522430389075156"
      ]
     },
     "execution_count": 24,
     "metadata": {},
     "output_type": "execute_result"
    }
   ],
   "source": [
    "df.res_price.mean()"
   ]
  },
  {
   "cell_type": "code",
   "execution_count": 25,
   "metadata": {},
   "outputs": [
    {
     "data": {
      "text/plain": [
       "4005.94476826084"
      ]
     },
     "execution_count": 25,
     "metadata": {},
     "output_type": "execute_result"
    }
   ],
   "source": [
    "df.res_price.var()"
   ]
  },
  {
   "cell_type": "code",
   "execution_count": 26,
   "metadata": {},
   "outputs": [
    {
     "data": {
      "text/plain": [
       "(-76.07470012056542,\n",
       " 0.0,\n",
       " 0,\n",
       " 5020,\n",
       " {'1%': -3.431653316130827,\n",
       "  '5%': -2.8621159253018247,\n",
       "  '10%': -2.5670765656497516},\n",
       " 54842.415263192976)"
      ]
     },
     "execution_count": 26,
     "metadata": {},
     "output_type": "execute_result"
    }
   ],
   "source": [
    "sts.adfuller(df.res_price)"
   ]
  },
  {
   "cell_type": "code",
   "execution_count": 27,
   "metadata": {},
   "outputs": [
    {
     "data": {
      "image/png": "[encoded data removed]",
      "text/plain": [
       "<Figure size 432x288 with 1 Axes>"
      ]
     },
     "metadata": {},
     "output_type": "display_data"
    }
   ],
   "source": [
    "sgt.plot_acf(df.res_price, zero = False, lags = 40)\n",
    "plt.title(\" ACF of Residulas for Prices\", size=24)\n",
    "plt.show()"
   ]
  },
  {
   "cell_type": "code",
   "execution_count": 29,
   "metadata": {},
   "outputs": [
    {
     "data": {
      "image/png": "[encoded data removed]",
      "text/plain": [
       "<Figure size 1440x360 with 1 Axes>"
      ]
     },
     "metadata": {},
     "output_type": "display_data"
    }
   ],
   "source": [
    "df.res_price[1:].plot(figsize=(20,5))\n",
    "plt.title(\"Residuals of Prices\", size=24)\n",
    "plt.show()"
   ]
  },
  {
   "cell_type": "code",
   "execution_count": 32,
   "metadata": {},
   "outputs": [
    {
     "ename": "NameError",
     "evalue": "name 'results_ret_ar_6' is not defined",
     "output_type": "error",
     "traceback": [
      "\u001b[1;31m---------------------------------------------------------------------------\u001b[0m",
      "\u001b[1;31mNameError\u001b[0m                                 Traceback (most recent call last)",
      "\u001b[1;32m<ipython-input-32-5c37aa07524c>\u001b[0m in \u001b[0;36m<module>\u001b[1;34m\u001b[0m\n\u001b[1;32m----> 1\u001b[1;33m \u001b[0mdf\u001b[0m\u001b[1;33m[\u001b[0m\u001b[1;34m'res_ret'\u001b[0m\u001b[1;33m]\u001b[0m \u001b[1;33m=\u001b[0m \u001b[0mresults_ret_ar_6\u001b[0m\u001b[1;33m.\u001b[0m\u001b[0mresid\u001b[0m\u001b[1;33m\u001b[0m\u001b[1;33m\u001b[0m\u001b[0m\n\u001b[0m",
      "\u001b[1;31mNameError\u001b[0m: name 'results_ret_ar_6' is not defined"
     ]
    }
   ],
   "source": [
    "df['res_ret'] = results_ret_ar_6.resid"
   ]
  },
  {
   "cell_type": "code",
   "execution_count": null,
   "metadata": {},
   "outputs": [],
   "source": []
  }
 ],
 "metadata": {
  "kernelspec": {
   "display_name": "Python 3",
   "language": "python",
   "name": "python3"
  },
  "language_info": {
   "codemirror_mode": {
    "name": "ipython",
    "version": 3
   },
   "file_extension": ".py",
   "mimetype": "text/x-python",
   "name": "python",
   "nbconvert_exporter": "python",
   "pygments_lexer": "ipython3",
   "version": "3.8.5"
  }
 },
 "nbformat": 4,
 "nbformat_minor": 4
}
