{
 "cells": [
  {
   "cell_type": "code",
   "execution_count": 1,
   "metadata": {},
   "outputs": [],
   "source": [
    "import numpy as np\n",
    "import pandas as pd\n",
    "import matplotlib.pyplot as plt\n",
    "import seaborn as sns\n",
    "%matplotlib inline"
   ]
  },
  {
   "cell_type": "code",
   "execution_count": 2,
   "metadata": {},
   "outputs": [
    {
     "data": {
      "text/html": [
       "<div>\n",
       "<style scoped>\n",
       "    .dataframe tbody tr th:only-of-type {\n",
       "        vertical-align: middle;\n",
       "    }\n",
       "\n",
       "    .dataframe tbody tr th {\n",
       "        vertical-align: top;\n",
       "    }\n",
       "\n",
       "    .dataframe thead th {\n",
       "        text-align: right;\n",
       "    }\n",
       "</style>\n",
       "<table border=\"1\" class=\"dataframe\">\n",
       "  <thead>\n",
       "    <tr style=\"text-align: right;\">\n",
       "      <th></th>\n",
       "      <th>age</th>\n",
       "      <th>job</th>\n",
       "      <th>marital</th>\n",
       "      <th>education</th>\n",
       "      <th>default</th>\n",
       "      <th>balance</th>\n",
       "      <th>housing</th>\n",
       "      <th>loan</th>\n",
       "      <th>contact</th>\n",
       "      <th>day</th>\n",
       "      <th>month</th>\n",
       "      <th>duration</th>\n",
       "      <th>campaign</th>\n",
       "      <th>pdays</th>\n",
       "      <th>previous</th>\n",
       "      <th>poutcome</th>\n",
       "      <th>deposit</th>\n",
       "    </tr>\n",
       "  </thead>\n",
       "  <tbody>\n",
       "    <tr>\n",
       "      <th>0</th>\n",
       "      <td>58</td>\n",
       "      <td>management</td>\n",
       "      <td>married</td>\n",
       "      <td>tertiary</td>\n",
       "      <td>no</td>\n",
       "      <td>2143</td>\n",
       "      <td>yes</td>\n",
       "      <td>no</td>\n",
       "      <td>unknown</td>\n",
       "      <td>5</td>\n",
       "      <td>may</td>\n",
       "      <td>261</td>\n",
       "      <td>1</td>\n",
       "      <td>-1</td>\n",
       "      <td>0</td>\n",
       "      <td>unknown</td>\n",
       "      <td>no</td>\n",
       "    </tr>\n",
       "    <tr>\n",
       "      <th>1</th>\n",
       "      <td>44</td>\n",
       "      <td>technician</td>\n",
       "      <td>single</td>\n",
       "      <td>secondary</td>\n",
       "      <td>no</td>\n",
       "      <td>29</td>\n",
       "      <td>yes</td>\n",
       "      <td>no</td>\n",
       "      <td>unknown</td>\n",
       "      <td>5</td>\n",
       "      <td>may</td>\n",
       "      <td>151</td>\n",
       "      <td>1</td>\n",
       "      <td>-1</td>\n",
       "      <td>0</td>\n",
       "      <td>unknown</td>\n",
       "      <td>no</td>\n",
       "    </tr>\n",
       "    <tr>\n",
       "      <th>2</th>\n",
       "      <td>33</td>\n",
       "      <td>entrepreneur</td>\n",
       "      <td>married</td>\n",
       "      <td>secondary</td>\n",
       "      <td>no</td>\n",
       "      <td>2</td>\n",
       "      <td>yes</td>\n",
       "      <td>yes</td>\n",
       "      <td>unknown</td>\n",
       "      <td>5</td>\n",
       "      <td>may</td>\n",
       "      <td>76</td>\n",
       "      <td>1</td>\n",
       "      <td>-1</td>\n",
       "      <td>0</td>\n",
       "      <td>unknown</td>\n",
       "      <td>no</td>\n",
       "    </tr>\n",
       "    <tr>\n",
       "      <th>3</th>\n",
       "      <td>47</td>\n",
       "      <td>blue-collar</td>\n",
       "      <td>married</td>\n",
       "      <td>unknown</td>\n",
       "      <td>no</td>\n",
       "      <td>1506</td>\n",
       "      <td>yes</td>\n",
       "      <td>no</td>\n",
       "      <td>unknown</td>\n",
       "      <td>5</td>\n",
       "      <td>may</td>\n",
       "      <td>92</td>\n",
       "      <td>1</td>\n",
       "      <td>-1</td>\n",
       "      <td>0</td>\n",
       "      <td>unknown</td>\n",
       "      <td>no</td>\n",
       "    </tr>\n",
       "    <tr>\n",
       "      <th>4</th>\n",
       "      <td>33</td>\n",
       "      <td>unknown</td>\n",
       "      <td>single</td>\n",
       "      <td>unknown</td>\n",
       "      <td>no</td>\n",
       "      <td>1</td>\n",
       "      <td>no</td>\n",
       "      <td>no</td>\n",
       "      <td>unknown</td>\n",
       "      <td>5</td>\n",
       "      <td>may</td>\n",
       "      <td>198</td>\n",
       "      <td>1</td>\n",
       "      <td>-1</td>\n",
       "      <td>0</td>\n",
       "      <td>unknown</td>\n",
       "      <td>no</td>\n",
       "    </tr>\n",
       "  </tbody>\n",
       "</table>\n",
       "</div>"
      ],
      "text/plain": [
       "   age           job  marital  education default  balance housing loan  \\\n",
       "0   58    management  married   tertiary      no     2143     yes   no   \n",
       "1   44    technician   single  secondary      no       29     yes   no   \n",
       "2   33  entrepreneur  married  secondary      no        2     yes  yes   \n",
       "3   47   blue-collar  married    unknown      no     1506     yes   no   \n",
       "4   33       unknown   single    unknown      no        1      no   no   \n",
       "\n",
       "   contact  day month  duration  campaign  pdays  previous poutcome deposit  \n",
       "0  unknown    5   may       261         1     -1         0  unknown      no  \n",
       "1  unknown    5   may       151         1     -1         0  unknown      no  \n",
       "2  unknown    5   may        76         1     -1         0  unknown      no  \n",
       "3  unknown    5   may        92         1     -1         0  unknown      no  \n",
       "4  unknown    5   may       198         1     -1         0  unknown      no  "
      ]
     },
     "execution_count": 2,
     "metadata": {},
     "output_type": "execute_result"
    }
   ],
   "source": [
    "bank = pd.read_csv(r'C:\\Users\\Anas\\Desktop\\Projects for Data Science\\bank.csv')\n",
    "bank.head()"
   ]
  },
  {
   "cell_type": "code",
   "execution_count": 3,
   "metadata": {},
   "outputs": [
    {
     "data": {
      "text/plain": [
       "<bound method DataFrame.info of        age           job   marital  education default  balance housing loan  \\\n",
       "0       58    management   married   tertiary      no     2143     yes   no   \n",
       "1       44    technician    single  secondary      no       29     yes   no   \n",
       "2       33  entrepreneur   married  secondary      no        2     yes  yes   \n",
       "3       47   blue-collar   married    unknown      no     1506     yes   no   \n",
       "4       33       unknown    single    unknown      no        1      no   no   \n",
       "...    ...           ...       ...        ...     ...      ...     ...  ...   \n",
       "45206   51    technician   married   tertiary      no      825      no   no   \n",
       "45207   71       retired  divorced    primary      no     1729      no   no   \n",
       "45208   72       retired   married  secondary      no     5715      no   no   \n",
       "45209   57   blue-collar   married  secondary      no      668      no   no   \n",
       "45210   37  entrepreneur   married  secondary      no     2971      no   no   \n",
       "\n",
       "         contact  day month  duration  campaign  pdays  previous poutcome  \\\n",
       "0        unknown    5   may       261         1     -1         0  unknown   \n",
       "1        unknown    5   may       151         1     -1         0  unknown   \n",
       "2        unknown    5   may        76         1     -1         0  unknown   \n",
       "3        unknown    5   may        92         1     -1         0  unknown   \n",
       "4        unknown    5   may       198         1     -1         0  unknown   \n",
       "...          ...  ...   ...       ...       ...    ...       ...      ...   \n",
       "45206   cellular   17   nov       977         3     -1         0  unknown   \n",
       "45207   cellular   17   nov       456         2     -1         0  unknown   \n",
       "45208   cellular   17   nov      1127         5    184         3  success   \n",
       "45209  telephone   17   nov       508         4     -1         0  unknown   \n",
       "45210   cellular   17   nov       361         2    188        11    other   \n",
       "\n",
       "      deposit  \n",
       "0          no  \n",
       "1          no  \n",
       "2          no  \n",
       "3          no  \n",
       "4          no  \n",
       "...       ...  \n",
       "45206     yes  \n",
       "45207     yes  \n",
       "45208     yes  \n",
       "45209      no  \n",
       "45210      no  \n",
       "\n",
       "[45211 rows x 17 columns]>"
      ]
     },
     "execution_count": 3,
     "metadata": {},
     "output_type": "execute_result"
    }
   ],
   "source": [
    "bank.info"
   ]
  },
  {
   "cell_type": "code",
   "execution_count": 4,
   "metadata": {},
   "outputs": [
    {
     "data": {
      "text/plain": [
       "(45211, 17)"
      ]
     },
     "execution_count": 4,
     "metadata": {},
     "output_type": "execute_result"
    }
   ],
   "source": [
    "bank.shape"
   ]
  },
  {
   "cell_type": "code",
   "execution_count": 5,
   "metadata": {},
   "outputs": [
    {
     "data": {
      "text/plain": [
       "<bound method IndexOpsMixin.value_counts of 0         no\n",
       "1         no\n",
       "2         no\n",
       "3         no\n",
       "4         no\n",
       "        ... \n",
       "45206    yes\n",
       "45207    yes\n",
       "45208    yes\n",
       "45209     no\n",
       "45210     no\n",
       "Name: deposit, Length: 45211, dtype: object>"
      ]
     },
     "execution_count": 5,
     "metadata": {},
     "output_type": "execute_result"
    }
   ],
   "source": [
    "bank['deposit'].value_counts"
   ]
  },
  {
   "cell_type": "code",
   "execution_count": 6,
   "metadata": {},
   "outputs": [
    {
     "data": {
      "text/plain": [
       "no     88.3\n",
       "yes    11.7\n",
       "Name: deposit, dtype: float64"
      ]
     },
     "execution_count": 6,
     "metadata": {},
     "output_type": "execute_result"
    }
   ],
   "source": [
    "round(bank['deposit'].value_counts(normalize=True) * 100,2)"
   ]
  },
  {
   "cell_type": "code",
   "execution_count": 7,
   "metadata": {},
   "outputs": [
    {
     "data": {
      "text/plain": [
       "<AxesSubplot:xlabel='deposit', ylabel='count'>"
      ]
     },
     "execution_count": 7,
     "metadata": {},
     "output_type": "execute_result"
    },
    {
     "data": {
      "image/png": "[encoded data removed]",
      "text/plain": [
       "<Figure size 432x288 with 1 Axes>"
      ]
     },
     "metadata": {
      "needs_background": "light"
     },
     "output_type": "display_data"
    }
   ],
   "source": [
    "sns.countplot(x='deposit', data = bank)"
   ]
  },
  {
   "cell_type": "code",
   "execution_count": 8,
   "metadata": {},
   "outputs": [
    {
     "data": {
      "text/plain": [
       "<AxesSubplot:xlabel='deposit', ylabel='balance'>"
      ]
     },
     "execution_count": 8,
     "metadata": {},
     "output_type": "execute_result"
    },
    {
     "data": {
      "image/png": "[encoded data removed]",
      "text/plain": [
       "<Figure size 432x288 with 1 Axes>"
      ]
     },
     "metadata": {
      "needs_background": "light"
     },
     "output_type": "display_data"
    }
   ],
   "source": [
    "sns.barplot(x='deposit', y='balance', data=bank)"
   ]
  },
  {
   "cell_type": "code",
   "execution_count": 9,
   "metadata": {},
   "outputs": [
    {
     "data": {
      "text/plain": [
       "<AxesSubplot:xlabel='campaign', ylabel='count'>"
      ]
     },
     "execution_count": 9,
     "metadata": {},
     "output_type": "execute_result"
    },
    {
     "data": {
      "image/png": "[encoded data removed]",
      "text/plain": [
       "<Figure size 432x288 with 1 Axes>"
      ]
     },
     "metadata": {
      "needs_background": "light"
     },
     "output_type": "display_data"
    }
   ],
   "source": [
    "sns.countplot(x='campaign', data=bank)"
   ]
  },
  {
   "cell_type": "code",
   "execution_count": 10,
   "metadata": {},
   "outputs": [
    {
     "name": "stderr",
     "output_type": "stream",
     "text": [
      "C:\\Users\\Anas\\anaconda3\\lib\\site-packages\\seaborn\\distributions.py:2551: FutureWarning: `distplot` is a deprecated function and will be removed in a future version. Please adapt your code to use either `displot` (a figure-level function with similar flexibility) or `histplot` (an axes-level function for histograms).\n",
      "  warnings.warn(msg, FutureWarning)\n"
     ]
    },
    {
     "data": {
      "image/png": "[encoded data removed]",
      "text/plain": [
       "<Figure size 432x288 with 1 Axes>"
      ]
     },
     "metadata": {
      "needs_background": "light"
     },
     "output_type": "display_data"
    }
   ],
   "source": [
    "sns.distplot(bank['balance']);"
   ]
  },
  {
   "cell_type": "code",
   "execution_count": 11,
   "metadata": {},
   "outputs": [
    {
     "data": {
      "text/plain": [
       "['age',\n",
       " 'job',\n",
       " 'marital',\n",
       " 'education',\n",
       " 'default',\n",
       " 'balance',\n",
       " 'housing',\n",
       " 'loan',\n",
       " 'contact',\n",
       " 'day',\n",
       " 'month',\n",
       " 'duration',\n",
       " 'campaign',\n",
       " 'pdays',\n",
       " 'previous',\n",
       " 'poutcome']"
      ]
     },
     "execution_count": 11,
     "metadata": {},
     "output_type": "execute_result"
    }
   ],
   "source": [
    "X_features = list(bank.columns)\n",
    "X_features.remove('deposit')\n",
    "X_features"
   ]
  },
  {
   "cell_type": "code",
   "execution_count": 12,
   "metadata": {},
   "outputs": [],
   "source": [
    "encoded_bank_df = pd.get_dummies(bank[X_features],drop_first = True)"
   ]
  },
  {
   "cell_type": "code",
   "execution_count": 13,
   "metadata": {},
   "outputs": [],
   "source": [
    "Y=bank.deposit.map(lambda x: int(x== 'yes'))\n",
    "X=encoded_bank_df"
   ]
  },
  {
   "cell_type": "code",
   "execution_count": 14,
   "metadata": {},
   "outputs": [],
   "source": [
    "import statsmodels.api as sm"
   ]
  },
  {
   "cell_type": "code",
   "execution_count": 15,
   "metadata": {},
   "outputs": [
    {
     "name": "stdout",
     "output_type": "stream",
     "text": [
      "Optimization terminated successfully.\n",
      "         Current function value: 0.238463\n",
      "         Iterations 8\n"
     ]
    }
   ],
   "source": [
    "logit_model = sm.Logit(Y,sm.add_constant(X)).fit()"
   ]
  },
  {
   "cell_type": "code",
   "execution_count": 16,
   "metadata": {},
   "outputs": [
    {
     "data": {
      "text/html": [
       "<table class=\"simpletable\">\n",
       "<tr>\n",
       "        <td>Model:</td>              <td>Logit</td>      <td>Pseudo R-squared:</td>    <td>0.339</td>  \n",
       "</tr>\n",
       "<tr>\n",
       "  <td>Dependent Variable:</td>      <td>deposit</td>           <td>AIC:</td>        <td>21648.2702</td>\n",
       "</tr>\n",
       "<tr>\n",
       "         <td>Date:</td>        <td>2021-08-13 06:26</td>       <td>BIC:</td>        <td>22023.1913</td>\n",
       "</tr>\n",
       "<tr>\n",
       "   <td>No. Observations:</td>        <td>45211</td>       <td>Log-Likelihood:</td>    <td>-10781.</td> \n",
       "</tr>\n",
       "<tr>\n",
       "       <td>Df Model:</td>             <td>42</td>            <td>LL-Null:</td>        <td>-16315.</td> \n",
       "</tr>\n",
       "<tr>\n",
       "     <td>Df Residuals:</td>          <td>45168</td>        <td>LLR p-value:</td>      <td>0.0000</td>  \n",
       "</tr>\n",
       "<tr>\n",
       "      <td>Converged:</td>           <td>1.0000</td>           <td>Scale:</td>         <td>1.0000</td>  \n",
       "</tr>\n",
       "<tr>\n",
       "    <td>No. Iterations:</td>        <td>8.0000</td>              <td></td>               <td></td>     \n",
       "</tr>\n",
       "</table>\n",
       "<table class=\"simpletable\">\n",
       "<tr>\n",
       "           <td></td>            <th>Coef.</th>  <th>Std.Err.</th>     <th>z</th>     <th>P>|z|</th> <th>[0.025</th>  <th>0.975]</th> \n",
       "</tr>\n",
       "<tr>\n",
       "  <th>const</th>               <td>-2.5356</td>  <td>0.1837</td>  <td>-13.8028</td> <td>0.0000</td> <td>-2.8957</td> <td>-2.1756</td>\n",
       "</tr>\n",
       "<tr>\n",
       "  <th>age</th>                 <td>0.0001</td>   <td>0.0022</td>   <td>0.0511</td>  <td>0.9592</td> <td>-0.0042</td> <td>0.0044</td> \n",
       "</tr>\n",
       "<tr>\n",
       "  <th>balance</th>             <td>0.0000</td>   <td>0.0000</td>   <td>2.4934</td>  <td>0.0127</td> <td>0.0000</td>  <td>0.0000</td> \n",
       "</tr>\n",
       "<tr>\n",
       "  <th>day</th>                 <td>0.0100</td>   <td>0.0025</td>   <td>3.9929</td>  <td>0.0001</td> <td>0.0051</td>  <td>0.0149</td> \n",
       "</tr>\n",
       "<tr>\n",
       "  <th>duration</th>            <td>0.0042</td>   <td>0.0001</td>   <td>64.9852</td> <td>0.0000</td> <td>0.0041</td>  <td>0.0043</td> \n",
       "</tr>\n",
       "<tr>\n",
       "  <th>campaign</th>            <td>-0.0908</td>  <td>0.0101</td>   <td>-8.9551</td> <td>0.0000</td> <td>-0.1107</td> <td>-0.0709</td>\n",
       "</tr>\n",
       "<tr>\n",
       "  <th>pdays</th>               <td>-0.0001</td>  <td>0.0003</td>   <td>-0.3355</td> <td>0.7373</td> <td>-0.0007</td> <td>0.0005</td> \n",
       "</tr>\n",
       "<tr>\n",
       "  <th>previous</th>            <td>0.0102</td>   <td>0.0065</td>   <td>1.5612</td>  <td>0.1185</td> <td>-0.0026</td> <td>0.0229</td> \n",
       "</tr>\n",
       "<tr>\n",
       "  <th>job_blue-collar</th>     <td>-0.3099</td>  <td>0.0727</td>   <td>-4.2641</td> <td>0.0000</td> <td>-0.4523</td> <td>-0.1674</td>\n",
       "</tr>\n",
       "<tr>\n",
       "  <th>job_entrepreneur</th>    <td>-0.3571</td>  <td>0.1256</td>   <td>-2.8440</td> <td>0.0045</td> <td>-0.6032</td> <td>-0.1110</td>\n",
       "</tr>\n",
       "<tr>\n",
       "  <th>job_housemaid</th>       <td>-0.5040</td>  <td>0.1365</td>   <td>-3.6931</td> <td>0.0002</td> <td>-0.7715</td> <td>-0.2365</td>\n",
       "</tr>\n",
       "<tr>\n",
       "  <th>job_management</th>      <td>-0.1653</td>  <td>0.0733</td>   <td>-2.2550</td> <td>0.0241</td> <td>-0.3089</td> <td>-0.0216</td>\n",
       "</tr>\n",
       "<tr>\n",
       "  <th>job_retired</th>         <td>0.2524</td>   <td>0.0972</td>   <td>2.5958</td>  <td>0.0094</td> <td>0.0618</td>  <td>0.4429</td> \n",
       "</tr>\n",
       "<tr>\n",
       "  <th>job_self-employed</th>   <td>-0.2983</td>  <td>0.1120</td>   <td>-2.6638</td> <td>0.0077</td> <td>-0.5178</td> <td>-0.0788</td>\n",
       "</tr>\n",
       "<tr>\n",
       "  <th>job_services</th>        <td>-0.2238</td>  <td>0.0841</td>   <td>-2.6622</td> <td>0.0078</td> <td>-0.3886</td> <td>-0.0590</td>\n",
       "</tr>\n",
       "<tr>\n",
       "  <th>job_student</th>         <td>0.3821</td>   <td>0.1090</td>   <td>3.5049</td>  <td>0.0005</td> <td>0.1684</td>  <td>0.5958</td> \n",
       "</tr>\n",
       "<tr>\n",
       "  <th>job_technician</th>      <td>-0.1760</td>  <td>0.0689</td>   <td>-2.5535</td> <td>0.0107</td> <td>-0.3111</td> <td>-0.0409</td>\n",
       "</tr>\n",
       "<tr>\n",
       "  <th>job_unemployed</th>      <td>-0.1767</td>  <td>0.1116</td>   <td>-1.5828</td> <td>0.1135</td> <td>-0.3955</td> <td>0.0421</td> \n",
       "</tr>\n",
       "<tr>\n",
       "  <th>job_unknown</th>         <td>-0.3133</td>  <td>0.2335</td>   <td>-1.3418</td> <td>0.1797</td> <td>-0.7708</td> <td>0.1443</td> \n",
       "</tr>\n",
       "<tr>\n",
       "  <th>marital_married</th>     <td>-0.1795</td>  <td>0.0589</td>   <td>-3.0462</td> <td>0.0023</td> <td>-0.2949</td> <td>-0.0640</td>\n",
       "</tr>\n",
       "<tr>\n",
       "  <th>marital_single</th>      <td>0.0925</td>   <td>0.0673</td>   <td>1.3752</td>  <td>0.1691</td> <td>-0.0393</td> <td>0.2243</td> \n",
       "</tr>\n",
       "<tr>\n",
       "  <th>education_secondary</th> <td>0.1835</td>   <td>0.0648</td>   <td>2.8325</td>  <td>0.0046</td> <td>0.0565</td>  <td>0.3105</td> \n",
       "</tr>\n",
       "<tr>\n",
       "  <th>education_tertiary</th>  <td>0.3789</td>   <td>0.0753</td>   <td>5.0311</td>  <td>0.0000</td> <td>0.2313</td>  <td>0.5266</td> \n",
       "</tr>\n",
       "<tr>\n",
       "  <th>education_unknown</th>   <td>0.2505</td>   <td>0.1039</td>   <td>2.4108</td>  <td>0.0159</td> <td>0.0468</td>  <td>0.4541</td> \n",
       "</tr>\n",
       "<tr>\n",
       "  <th>default_yes</th>         <td>-0.0167</td>  <td>0.1628</td>   <td>-0.1024</td> <td>0.9184</td> <td>-0.3358</td> <td>0.3025</td> \n",
       "</tr>\n",
       "<tr>\n",
       "  <th>housing_yes</th>         <td>-0.6754</td>  <td>0.0439</td>  <td>-15.3953</td> <td>0.0000</td> <td>-0.7614</td> <td>-0.5894</td>\n",
       "</tr>\n",
       "<tr>\n",
       "  <th>loan_yes</th>            <td>-0.4254</td>  <td>0.0600</td>   <td>-7.0906</td> <td>0.0000</td> <td>-0.5430</td> <td>-0.3078</td>\n",
       "</tr>\n",
       "<tr>\n",
       "  <th>contact_telephone</th>   <td>-0.1634</td>  <td>0.0752</td>   <td>-2.1729</td> <td>0.0298</td> <td>-0.3107</td> <td>-0.0160</td>\n",
       "</tr>\n",
       "<tr>\n",
       "  <th>contact_unknown</th>     <td>-1.6232</td>  <td>0.0732</td>  <td>-22.1831</td> <td>0.0000</td> <td>-1.7666</td> <td>-1.4798</td>\n",
       "</tr>\n",
       "<tr>\n",
       "  <th>month_aug</th>           <td>-0.6939</td>  <td>0.0785</td>   <td>-8.8424</td> <td>0.0000</td> <td>-0.8477</td> <td>-0.5401</td>\n",
       "</tr>\n",
       "<tr>\n",
       "  <th>month_dec</th>           <td>0.6911</td>   <td>0.1767</td>   <td>3.9117</td>  <td>0.0001</td> <td>0.3448</td>  <td>1.0374</td> \n",
       "</tr>\n",
       "<tr>\n",
       "  <th>month_feb</th>           <td>-0.1473</td>  <td>0.0894</td>   <td>-1.6476</td> <td>0.0994</td> <td>-0.3226</td> <td>0.0279</td> \n",
       "</tr>\n",
       "<tr>\n",
       "  <th>month_jan</th>           <td>-1.2617</td>  <td>0.1217</td>  <td>-10.3672</td> <td>0.0000</td> <td>-1.5003</td> <td>-1.0232</td>\n",
       "</tr>\n",
       "<tr>\n",
       "  <th>month_jul</th>           <td>-0.8308</td>  <td>0.0774</td>  <td>-10.7331</td> <td>0.0000</td> <td>-0.9825</td> <td>-0.6791</td>\n",
       "</tr>\n",
       "<tr>\n",
       "  <th>month_jun</th>           <td>0.4536</td>   <td>0.0937</td>   <td>4.8428</td>  <td>0.0000</td> <td>0.2700</td>  <td>0.6372</td> \n",
       "</tr>\n",
       "<tr>\n",
       "  <th>month_mar</th>           <td>1.5899</td>   <td>0.1199</td>   <td>13.2652</td> <td>0.0000</td> <td>1.3550</td>  <td>1.8248</td> \n",
       "</tr>\n",
       "<tr>\n",
       "  <th>month_may</th>           <td>-0.3991</td>  <td>0.0723</td>   <td>-5.5213</td> <td>0.0000</td> <td>-0.5408</td> <td>-0.2574</td>\n",
       "</tr>\n",
       "<tr>\n",
       "  <th>month_nov</th>           <td>-0.8734</td>  <td>0.0844</td>  <td>-10.3471</td> <td>0.0000</td> <td>-1.0388</td> <td>-0.7080</td>\n",
       "</tr>\n",
       "<tr>\n",
       "  <th>month_oct</th>           <td>0.8814</td>   <td>0.1080</td>   <td>8.1591</td>  <td>0.0000</td> <td>0.6697</td>  <td>1.0932</td> \n",
       "</tr>\n",
       "<tr>\n",
       "  <th>month_sep</th>           <td>0.8741</td>   <td>0.1195</td>   <td>7.3144</td>  <td>0.0000</td> <td>0.6398</td>  <td>1.1083</td> \n",
       "</tr>\n",
       "<tr>\n",
       "  <th>poutcome_other</th>      <td>0.2035</td>   <td>0.0899</td>   <td>2.2645</td>  <td>0.0235</td> <td>0.0274</td>  <td>0.3796</td> \n",
       "</tr>\n",
       "<tr>\n",
       "  <th>poutcome_success</th>    <td>2.2911</td>   <td>0.0823</td>   <td>27.8212</td> <td>0.0000</td> <td>2.1297</td>  <td>2.4525</td> \n",
       "</tr>\n",
       "<tr>\n",
       "  <th>poutcome_unknown</th>    <td>-0.0918</td>  <td>0.0935</td>   <td>-0.9820</td> <td>0.3261</td> <td>-0.2750</td> <td>0.0914</td> \n",
       "</tr>\n",
       "</table>"
      ],
      "text/plain": [
       "<class 'statsmodels.iolib.summary2.Summary'>\n",
       "\"\"\"\n",
       "                           Results: Logit\n",
       "====================================================================\n",
       "Model:               Logit             Pseudo R-squared:  0.339     \n",
       "Dependent Variable:  deposit           AIC:               21648.2702\n",
       "Date:                2021-08-13 06:26  BIC:               22023.1913\n",
       "No. Observations:    45211             Log-Likelihood:    -10781.   \n",
       "Df Model:            42                LL-Null:           -16315.   \n",
       "Df Residuals:        45168             LLR p-value:       0.0000    \n",
       "Converged:           1.0000            Scale:             1.0000    \n",
       "No. Iterations:      8.0000                                         \n",
       "--------------------------------------------------------------------\n",
       "                     Coef.  Std.Err.    z     P>|z|   [0.025  0.975]\n",
       "--------------------------------------------------------------------\n",
       "const               -2.5356   0.1837 -13.8028 0.0000 -2.8957 -2.1756\n",
       "age                  0.0001   0.0022   0.0511 0.9592 -0.0042  0.0044\n",
       "balance              0.0000   0.0000   2.4934 0.0127  0.0000  0.0000\n",
       "day                  0.0100   0.0025   3.9929 0.0001  0.0051  0.0149\n",
       "duration             0.0042   0.0001  64.9852 0.0000  0.0041  0.0043\n",
       "campaign            -0.0908   0.0101  -8.9551 0.0000 -0.1107 -0.0709\n",
       "pdays               -0.0001   0.0003  -0.3355 0.7373 -0.0007  0.0005\n",
       "previous             0.0102   0.0065   1.5612 0.1185 -0.0026  0.0229\n",
       "job_blue-collar     -0.3099   0.0727  -4.2641 0.0000 -0.4523 -0.1674\n",
       "job_entrepreneur    -0.3571   0.1256  -2.8440 0.0045 -0.6032 -0.1110\n",
       "job_housemaid       -0.5040   0.1365  -3.6931 0.0002 -0.7715 -0.2365\n",
       "job_management      -0.1653   0.0733  -2.2550 0.0241 -0.3089 -0.0216\n",
       "job_retired          0.2524   0.0972   2.5958 0.0094  0.0618  0.4429\n",
       "job_self-employed   -0.2983   0.1120  -2.6638 0.0077 -0.5178 -0.0788\n",
       "job_services        -0.2238   0.0841  -2.6622 0.0078 -0.3886 -0.0590\n",
       "job_student          0.3821   0.1090   3.5049 0.0005  0.1684  0.5958\n",
       "job_technician      -0.1760   0.0689  -2.5535 0.0107 -0.3111 -0.0409\n",
       "job_unemployed      -0.1767   0.1116  -1.5828 0.1135 -0.3955  0.0421\n",
       "job_unknown         -0.3133   0.2335  -1.3418 0.1797 -0.7708  0.1443\n",
       "marital_married     -0.1795   0.0589  -3.0462 0.0023 -0.2949 -0.0640\n",
       "marital_single       0.0925   0.0673   1.3752 0.1691 -0.0393  0.2243\n",
       "education_secondary  0.1835   0.0648   2.8325 0.0046  0.0565  0.3105\n",
       "education_tertiary   0.3789   0.0753   5.0311 0.0000  0.2313  0.5266\n",
       "education_unknown    0.2505   0.1039   2.4108 0.0159  0.0468  0.4541\n",
       "default_yes         -0.0167   0.1628  -0.1024 0.9184 -0.3358  0.3025\n",
       "housing_yes         -0.6754   0.0439 -15.3953 0.0000 -0.7614 -0.5894\n",
       "loan_yes            -0.4254   0.0600  -7.0906 0.0000 -0.5430 -0.3078\n",
       "contact_telephone   -0.1634   0.0752  -2.1729 0.0298 -0.3107 -0.0160\n",
       "contact_unknown     -1.6232   0.0732 -22.1831 0.0000 -1.7666 -1.4798\n",
       "month_aug           -0.6939   0.0785  -8.8424 0.0000 -0.8477 -0.5401\n",
       "month_dec            0.6911   0.1767   3.9117 0.0001  0.3448  1.0374\n",
       "month_feb           -0.1473   0.0894  -1.6476 0.0994 -0.3226  0.0279\n",
       "month_jan           -1.2617   0.1217 -10.3672 0.0000 -1.5003 -1.0232\n",
       "month_jul           -0.8308   0.0774 -10.7331 0.0000 -0.9825 -0.6791\n",
       "month_jun            0.4536   0.0937   4.8428 0.0000  0.2700  0.6372\n",
       "month_mar            1.5899   0.1199  13.2652 0.0000  1.3550  1.8248\n",
       "month_may           -0.3991   0.0723  -5.5213 0.0000 -0.5408 -0.2574\n",
       "month_nov           -0.8734   0.0844 -10.3471 0.0000 -1.0388 -0.7080\n",
       "month_oct            0.8814   0.1080   8.1591 0.0000  0.6697  1.0932\n",
       "month_sep            0.8741   0.1195   7.3144 0.0000  0.6398  1.1083\n",
       "poutcome_other       0.2035   0.0899   2.2645 0.0235  0.0274  0.3796\n",
       "poutcome_success     2.2911   0.0823  27.8212 0.0000  2.1297  2.4525\n",
       "poutcome_unknown    -0.0918   0.0935  -0.9820 0.3261 -0.2750  0.0914\n",
       "====================================================================\n",
       "\n",
       "\"\"\""
      ]
     },
     "execution_count": 16,
     "metadata": {},
     "output_type": "execute_result"
    }
   ],
   "source": [
    "logit_model.summary2()"
   ]
  },
  {
   "cell_type": "code",
   "execution_count": 17,
   "metadata": {},
   "outputs": [],
   "source": [
    "X_features = ['previous',\n",
    "             'pdays',\n",
    "             'job_unknown',\n",
    "             'poutcome_unknown',\n",
    "             'default_yes',\n",
    "             'age']"
   ]
  },
  {
   "cell_type": "code",
   "execution_count": 18,
   "metadata": {},
   "outputs": [
    {
     "name": "stdout",
     "output_type": "stream",
     "text": [
      "Optimization terminated successfully.\n",
      "         Current function value: 0.346355\n",
      "         Iterations 7\n"
     ]
    }
   ],
   "source": [
    "logit_model_2 = sm.Logit(Y,sm.add_constant( X[X_features])).fit()"
   ]
  },
  {
   "cell_type": "code",
   "execution_count": 19,
   "metadata": {},
   "outputs": [
    {
     "data": {
      "text/html": [
       "<table class=\"simpletable\">\n",
       "<tr>\n",
       "        <td>Model:</td>              <td>Logit</td>      <td>Pseudo R-squared:</td>    <td>0.040</td>   \n",
       "</tr>\n",
       "<tr>\n",
       "  <td>Dependent Variable:</td>      <td>deposit</td>           <td>AIC:</td>        <td>31332.1352</td> \n",
       "</tr>\n",
       "<tr>\n",
       "         <td>Date:</td>        <td>2021-08-13 06:26</td>       <td>BIC:</td>        <td>31393.1689</td> \n",
       "</tr>\n",
       "<tr>\n",
       "   <td>No. Observations:</td>        <td>45211</td>       <td>Log-Likelihood:</td>    <td>-15659.</td>  \n",
       "</tr>\n",
       "<tr>\n",
       "       <td>Df Model:</td>              <td>6</td>            <td>LL-Null:</td>        <td>-16315.</td>  \n",
       "</tr>\n",
       "<tr>\n",
       "     <td>Df Residuals:</td>          <td>45204</td>        <td>LLR p-value:</td>    <td>1.8178e-280</td>\n",
       "</tr>\n",
       "<tr>\n",
       "      <td>Converged:</td>           <td>1.0000</td>           <td>Scale:</td>         <td>1.0000</td>   \n",
       "</tr>\n",
       "<tr>\n",
       "    <td>No. Iterations:</td>        <td>7.0000</td>              <td></td>               <td></td>      \n",
       "</tr>\n",
       "</table>\n",
       "<table class=\"simpletable\">\n",
       "<tr>\n",
       "          <td></td>          <th>Coef.</th>  <th>Std.Err.</th>     <th>z</th>     <th>P>|z|</th> <th>[0.025</th>  <th>0.975]</th> \n",
       "</tr>\n",
       "<tr>\n",
       "  <th>const</th>            <td>-0.7445</td>  <td>0.0845</td>   <td>-8.8080</td> <td>0.0000</td> <td>-0.9101</td> <td>-0.5788</td>\n",
       "</tr>\n",
       "<tr>\n",
       "  <th>previous</th>         <td>0.0027</td>   <td>0.0055</td>   <td>0.4864</td>  <td>0.6267</td> <td>-0.0081</td> <td>0.0134</td> \n",
       "</tr>\n",
       "<tr>\n",
       "  <th>pdays</th>            <td>-0.0033</td>  <td>0.0003</td>  <td>-13.2844</td> <td>0.0000</td> <td>-0.0038</td> <td>-0.0028</td>\n",
       "</tr>\n",
       "<tr>\n",
       "  <th>job_unknown</th>      <td>0.0388</td>   <td>0.1866</td>   <td>0.2080</td>  <td>0.8353</td> <td>-0.3269</td> <td>0.4046</td> \n",
       "</tr>\n",
       "<tr>\n",
       "  <th>poutcome_unknown</th> <td>-1.7862</td>  <td>0.0629</td>  <td>-28.3953</td> <td>0.0000</td> <td>-1.9095</td> <td>-1.6630</td>\n",
       "</tr>\n",
       "<tr>\n",
       "  <th>default_yes</th>      <td>-0.4845</td>  <td>0.1448</td>   <td>-3.3456</td> <td>0.0008</td> <td>-0.7684</td> <td>-0.2007</td>\n",
       "</tr>\n",
       "<tr>\n",
       "  <th>age</th>              <td>0.0059</td>   <td>0.0014</td>   <td>4.3092</td>  <td>0.0000</td> <td>0.0032</td>  <td>0.0085</td> \n",
       "</tr>\n",
       "</table>"
      ],
      "text/plain": [
       "<class 'statsmodels.iolib.summary2.Summary'>\n",
       "\"\"\"\n",
       "                          Results: Logit\n",
       "==================================================================\n",
       "Model:              Logit            Pseudo R-squared: 0.040      \n",
       "Dependent Variable: deposit          AIC:              31332.1352 \n",
       "Date:               2021-08-13 06:26 BIC:              31393.1689 \n",
       "No. Observations:   45211            Log-Likelihood:   -15659.    \n",
       "Df Model:           6                LL-Null:          -16315.    \n",
       "Df Residuals:       45204            LLR p-value:      1.8178e-280\n",
       "Converged:          1.0000           Scale:            1.0000     \n",
       "No. Iterations:     7.0000                                        \n",
       "------------------------------------------------------------------\n",
       "                   Coef.  Std.Err.    z     P>|z|   [0.025  0.975]\n",
       "------------------------------------------------------------------\n",
       "const             -0.7445   0.0845  -8.8080 0.0000 -0.9101 -0.5788\n",
       "previous           0.0027   0.0055   0.4864 0.6267 -0.0081  0.0134\n",
       "pdays             -0.0033   0.0003 -13.2844 0.0000 -0.0038 -0.0028\n",
       "job_unknown        0.0388   0.1866   0.2080 0.8353 -0.3269  0.4046\n",
       "poutcome_unknown  -1.7862   0.0629 -28.3953 0.0000 -1.9095 -1.6630\n",
       "default_yes       -0.4845   0.1448  -3.3456 0.0008 -0.7684 -0.2007\n",
       "age                0.0059   0.0014   4.3092 0.0000  0.0032  0.0085\n",
       "==================================================================\n",
       "\n",
       "\"\"\""
      ]
     },
     "execution_count": 19,
     "metadata": {},
     "output_type": "execute_result"
    }
   ],
   "source": [
    "logit_model_2.summary2()"
   ]
  },
  {
   "cell_type": "code",
   "execution_count": 20,
   "metadata": {},
   "outputs": [],
   "source": [
    "y_pred_df = pd.DataFrame({'actual':Y,'predicted_prob':logit_model_2.predict(sm.add_constant\n",
    "                         (X[X_features]))})"
   ]
  },
  {
   "cell_type": "code",
   "execution_count": 21,
   "metadata": {},
   "outputs": [
    {
     "data": {
      "text/html": [
       "<div>\n",
       "<style scoped>\n",
       "    .dataframe tbody tr th:only-of-type {\n",
       "        vertical-align: middle;\n",
       "    }\n",
       "\n",
       "    .dataframe tbody tr th {\n",
       "        vertical-align: top;\n",
       "    }\n",
       "\n",
       "    .dataframe thead th {\n",
       "        text-align: right;\n",
       "    }\n",
       "</style>\n",
       "<table border=\"1\" class=\"dataframe\">\n",
       "  <thead>\n",
       "    <tr style=\"text-align: right;\">\n",
       "      <th></th>\n",
       "      <th>actual</th>\n",
       "      <th>predicted_prob</th>\n",
       "    </tr>\n",
       "  </thead>\n",
       "  <tbody>\n",
       "    <tr>\n",
       "      <th>0</th>\n",
       "      <td>0</td>\n",
       "      <td>0.100859</td>\n",
       "    </tr>\n",
       "    <tr>\n",
       "      <th>1</th>\n",
       "      <td>0</td>\n",
       "      <td>0.093663</td>\n",
       "    </tr>\n",
       "    <tr>\n",
       "      <th>2</th>\n",
       "      <td>0</td>\n",
       "      <td>0.088336</td>\n",
       "    </tr>\n",
       "    <tr>\n",
       "      <th>3</th>\n",
       "      <td>0</td>\n",
       "      <td>0.095165</td>\n",
       "    </tr>\n",
       "    <tr>\n",
       "      <th>4</th>\n",
       "      <td>0</td>\n",
       "      <td>0.091512</td>\n",
       "    </tr>\n",
       "    <tr>\n",
       "      <th>...</th>\n",
       "      <td>...</td>\n",
       "      <td>...</td>\n",
       "    </tr>\n",
       "    <tr>\n",
       "      <th>45206</th>\n",
       "      <td>1</td>\n",
       "      <td>0.097202</td>\n",
       "    </tr>\n",
       "    <tr>\n",
       "      <th>45207</th>\n",
       "      <td>1</td>\n",
       "      <td>0.107976</td>\n",
       "    </tr>\n",
       "    <tr>\n",
       "      <th>45208</th>\n",
       "      <td>1</td>\n",
       "      <td>0.283424</td>\n",
       "    </tr>\n",
       "    <tr>\n",
       "      <th>45209</th>\n",
       "      <td>0</td>\n",
       "      <td>0.100329</td>\n",
       "    </tr>\n",
       "    <tr>\n",
       "      <th>45210</th>\n",
       "      <td>0</td>\n",
       "      <td>0.245183</td>\n",
       "    </tr>\n",
       "  </tbody>\n",
       "</table>\n",
       "<p>45211 rows × 2 columns</p>\n",
       "</div>"
      ],
      "text/plain": [
       "       actual  predicted_prob\n",
       "0           0        0.100859\n",
       "1           0        0.093663\n",
       "2           0        0.088336\n",
       "3           0        0.095165\n",
       "4           0        0.091512\n",
       "...       ...             ...\n",
       "45206       1        0.097202\n",
       "45207       1        0.107976\n",
       "45208       1        0.283424\n",
       "45209       0        0.100329\n",
       "45210       0        0.245183\n",
       "\n",
       "[45211 rows x 2 columns]"
      ]
     },
     "execution_count": 21,
     "metadata": {},
     "output_type": "execute_result"
    }
   ],
   "source": [
    "y_pred_df"
   ]
  },
  {
   "cell_type": "code",
   "execution_count": 22,
   "metadata": {},
   "outputs": [],
   "source": [
    "#Now sort predicted probabilities  in  descending order\n",
    "import pandas as pd\n",
    "y_pred_df = pd.DataFrame({'actual':Y,'predicted_prob':logit_model_2.predict(sm.add_constant(X[X_features]))})\n",
    "sorted_predict_df = y_pred_df[['predicted_prob',\n",
    "                               'actual']].sort_values('predicted_prob',\n",
    "                                                                       ascending = False)"
   ]
  },
  {
   "cell_type": "code",
   "execution_count": 23,
   "metadata": {},
   "outputs": [
    {
     "data": {
      "text/html": [
       "<div>\n",
       "<style scoped>\n",
       "    .dataframe tbody tr th:only-of-type {\n",
       "        vertical-align: middle;\n",
       "    }\n",
       "\n",
       "    .dataframe tbody tr th {\n",
       "        vertical-align: top;\n",
       "    }\n",
       "\n",
       "    .dataframe thead th {\n",
       "        text-align: right;\n",
       "    }\n",
       "</style>\n",
       "<table border=\"1\" class=\"dataframe\">\n",
       "  <thead>\n",
       "    <tr style=\"text-align: right;\">\n",
       "      <th></th>\n",
       "      <th>predicted_prob</th>\n",
       "      <th>actual</th>\n",
       "    </tr>\n",
       "  </thead>\n",
       "  <tbody>\n",
       "    <tr>\n",
       "      <th>44420</th>\n",
       "      <td>0.445446</td>\n",
       "      <td>1</td>\n",
       "    </tr>\n",
       "    <tr>\n",
       "      <th>44410</th>\n",
       "      <td>0.429720</td>\n",
       "      <td>0</td>\n",
       "    </tr>\n",
       "    <tr>\n",
       "      <th>44403</th>\n",
       "      <td>0.418028</td>\n",
       "      <td>1</td>\n",
       "    </tr>\n",
       "    <tr>\n",
       "      <th>44401</th>\n",
       "      <td>0.410151</td>\n",
       "      <td>1</td>\n",
       "    </tr>\n",
       "    <tr>\n",
       "      <th>44421</th>\n",
       "      <td>0.406676</td>\n",
       "      <td>0</td>\n",
       "    </tr>\n",
       "    <tr>\n",
       "      <th>...</th>\n",
       "      <td>...</td>\n",
       "      <td>...</td>\n",
       "    </tr>\n",
       "    <tr>\n",
       "      <th>44858</th>\n",
       "      <td>0.033434</td>\n",
       "      <td>1</td>\n",
       "    </tr>\n",
       "    <tr>\n",
       "      <th>44837</th>\n",
       "      <td>0.033416</td>\n",
       "      <td>0</td>\n",
       "    </tr>\n",
       "    <tr>\n",
       "      <th>44829</th>\n",
       "      <td>0.033364</td>\n",
       "      <td>1</td>\n",
       "    </tr>\n",
       "    <tr>\n",
       "      <th>43978</th>\n",
       "      <td>0.023316</td>\n",
       "      <td>0</td>\n",
       "    </tr>\n",
       "    <tr>\n",
       "      <th>45021</th>\n",
       "      <td>0.017063</td>\n",
       "      <td>0</td>\n",
       "    </tr>\n",
       "  </tbody>\n",
       "</table>\n",
       "<p>45211 rows × 2 columns</p>\n",
       "</div>"
      ],
      "text/plain": [
       "       predicted_prob  actual\n",
       "44420        0.445446       1\n",
       "44410        0.429720       0\n",
       "44403        0.418028       1\n",
       "44401        0.410151       1\n",
       "44421        0.406676       0\n",
       "...               ...     ...\n",
       "44858        0.033434       1\n",
       "44837        0.033416       0\n",
       "44829        0.033364       1\n",
       "43978        0.023316       0\n",
       "45021        0.017063       0\n",
       "\n",
       "[45211 rows x 2 columns]"
      ]
     },
     "execution_count": 23,
     "metadata": {},
     "output_type": "execute_result"
    }
   ],
   "source": [
    "sorted_predict_df"
   ]
  },
  {
   "cell_type": "code",
   "execution_count": 24,
   "metadata": {},
   "outputs": [
    {
     "name": "stdout",
     "output_type": "stream",
     "text": [
      "Number of observation per decile:  4521\n"
     ]
    }
   ],
   "source": [
    "num_per_decile = int(len(sorted_predict_df)/10)\n",
    "print(\"Number of observation per decile: \", num_per_decile)"
   ]
  },
  {
   "cell_type": "code",
   "execution_count": 25,
   "metadata": {},
   "outputs": [],
   "source": [
    "def get_deciles(df):\n",
    "    df['decile']=1\n",
    "    idx = 0\n",
    "    for each_d in range(0,10):\n",
    "        df.iloc[idx:idx+num_per_decile,df.columns.get_loc('decile')] = each_d\n",
    "        idx += num_per_decile\n",
    "    df['decile'] = df['decile']+1\n",
    "    return df"
   ]
  },
  {
   "cell_type": "code",
   "execution_count": 26,
   "metadata": {},
   "outputs": [],
   "source": [
    "deciles_predict_df = get_deciles(sorted_predict_df)"
   ]
  },
  {
   "cell_type": "code",
   "execution_count": 27,
   "metadata": {},
   "outputs": [
    {
     "data": {
      "text/html": [
       "<div>\n",
       "<style scoped>\n",
       "    .dataframe tbody tr th:only-of-type {\n",
       "        vertical-align: middle;\n",
       "    }\n",
       "\n",
       "    .dataframe tbody tr th {\n",
       "        vertical-align: top;\n",
       "    }\n",
       "\n",
       "    .dataframe thead th {\n",
       "        text-align: right;\n",
       "    }\n",
       "</style>\n",
       "<table border=\"1\" class=\"dataframe\">\n",
       "  <thead>\n",
       "    <tr style=\"text-align: right;\">\n",
       "      <th></th>\n",
       "      <th>predicted_prob</th>\n",
       "      <th>actual</th>\n",
       "      <th>decile</th>\n",
       "    </tr>\n",
       "  </thead>\n",
       "  <tbody>\n",
       "    <tr>\n",
       "      <th>44420</th>\n",
       "      <td>0.445446</td>\n",
       "      <td>1</td>\n",
       "      <td>1</td>\n",
       "    </tr>\n",
       "    <tr>\n",
       "      <th>44410</th>\n",
       "      <td>0.429720</td>\n",
       "      <td>0</td>\n",
       "      <td>1</td>\n",
       "    </tr>\n",
       "    <tr>\n",
       "      <th>44403</th>\n",
       "      <td>0.418028</td>\n",
       "      <td>1</td>\n",
       "      <td>1</td>\n",
       "    </tr>\n",
       "    <tr>\n",
       "      <th>44401</th>\n",
       "      <td>0.410151</td>\n",
       "      <td>1</td>\n",
       "      <td>1</td>\n",
       "    </tr>\n",
       "    <tr>\n",
       "      <th>44421</th>\n",
       "      <td>0.406676</td>\n",
       "      <td>0</td>\n",
       "      <td>1</td>\n",
       "    </tr>\n",
       "    <tr>\n",
       "      <th>...</th>\n",
       "      <td>...</td>\n",
       "      <td>...</td>\n",
       "      <td>...</td>\n",
       "    </tr>\n",
       "    <tr>\n",
       "      <th>44858</th>\n",
       "      <td>0.033434</td>\n",
       "      <td>1</td>\n",
       "      <td>10</td>\n",
       "    </tr>\n",
       "    <tr>\n",
       "      <th>44837</th>\n",
       "      <td>0.033416</td>\n",
       "      <td>0</td>\n",
       "      <td>10</td>\n",
       "    </tr>\n",
       "    <tr>\n",
       "      <th>44829</th>\n",
       "      <td>0.033364</td>\n",
       "      <td>1</td>\n",
       "      <td>10</td>\n",
       "    </tr>\n",
       "    <tr>\n",
       "      <th>43978</th>\n",
       "      <td>0.023316</td>\n",
       "      <td>0</td>\n",
       "      <td>10</td>\n",
       "    </tr>\n",
       "    <tr>\n",
       "      <th>45021</th>\n",
       "      <td>0.017063</td>\n",
       "      <td>0</td>\n",
       "      <td>2</td>\n",
       "    </tr>\n",
       "  </tbody>\n",
       "</table>\n",
       "<p>45211 rows × 3 columns</p>\n",
       "</div>"
      ],
      "text/plain": [
       "       predicted_prob  actual  decile\n",
       "44420        0.445446       1       1\n",
       "44410        0.429720       0       1\n",
       "44403        0.418028       1       1\n",
       "44401        0.410151       1       1\n",
       "44421        0.406676       0       1\n",
       "...               ...     ...     ...\n",
       "44858        0.033434       1      10\n",
       "44837        0.033416       0      10\n",
       "44829        0.033364       1      10\n",
       "43978        0.023316       0      10\n",
       "45021        0.017063       0       2\n",
       "\n",
       "[45211 rows x 3 columns]"
      ]
     },
     "execution_count": 27,
     "metadata": {},
     "output_type": "execute_result"
    }
   ],
   "source": [
    "deciles_predict_df"
   ]
  },
  {
   "cell_type": "code",
   "execution_count": 28,
   "metadata": {},
   "outputs": [],
   "source": [
    "gain_lift_df = pd.DataFrame(deciles_predict_df.groupby('decile')['actual'].sum()).reset_index()\n",
    "gain_lift_df.columns = ['decile','gain']"
   ]
  },
  {
   "cell_type": "code",
   "execution_count": 29,
   "metadata": {},
   "outputs": [
    {
     "data": {
      "text/html": [
       "<div>\n",
       "<style scoped>\n",
       "    .dataframe tbody tr th:only-of-type {\n",
       "        vertical-align: middle;\n",
       "    }\n",
       "\n",
       "    .dataframe tbody tr th {\n",
       "        vertical-align: top;\n",
       "    }\n",
       "\n",
       "    .dataframe thead th {\n",
       "        text-align: right;\n",
       "    }\n",
       "</style>\n",
       "<table border=\"1\" class=\"dataframe\">\n",
       "  <thead>\n",
       "    <tr style=\"text-align: right;\">\n",
       "      <th></th>\n",
       "      <th>decile</th>\n",
       "      <th>gain</th>\n",
       "    </tr>\n",
       "  </thead>\n",
       "  <tbody>\n",
       "    <tr>\n",
       "      <th>0</th>\n",
       "      <td>1</td>\n",
       "      <td>1401</td>\n",
       "    </tr>\n",
       "    <tr>\n",
       "      <th>1</th>\n",
       "      <td>2</td>\n",
       "      <td>755</td>\n",
       "    </tr>\n",
       "    <tr>\n",
       "      <th>2</th>\n",
       "      <td>3</td>\n",
       "      <td>356</td>\n",
       "    </tr>\n",
       "    <tr>\n",
       "      <th>3</th>\n",
       "      <td>4</td>\n",
       "      <td>318</td>\n",
       "    </tr>\n",
       "    <tr>\n",
       "      <th>4</th>\n",
       "      <td>5</td>\n",
       "      <td>327</td>\n",
       "    </tr>\n",
       "    <tr>\n",
       "      <th>5</th>\n",
       "      <td>6</td>\n",
       "      <td>331</td>\n",
       "    </tr>\n",
       "    <tr>\n",
       "      <th>6</th>\n",
       "      <td>7</td>\n",
       "      <td>344</td>\n",
       "    </tr>\n",
       "    <tr>\n",
       "      <th>7</th>\n",
       "      <td>8</td>\n",
       "      <td>406</td>\n",
       "    </tr>\n",
       "    <tr>\n",
       "      <th>8</th>\n",
       "      <td>9</td>\n",
       "      <td>423</td>\n",
       "    </tr>\n",
       "    <tr>\n",
       "      <th>9</th>\n",
       "      <td>10</td>\n",
       "      <td>628</td>\n",
       "    </tr>\n",
       "  </tbody>\n",
       "</table>\n",
       "</div>"
      ],
      "text/plain": [
       "   decile  gain\n",
       "0       1  1401\n",
       "1       2   755\n",
       "2       3   356\n",
       "3       4   318\n",
       "4       5   327\n",
       "5       6   331\n",
       "6       7   344\n",
       "7       8   406\n",
       "8       9   423\n",
       "9      10   628"
      ]
     },
     "execution_count": 29,
     "metadata": {},
     "output_type": "execute_result"
    }
   ],
   "source": [
    "gain_lift_df"
   ]
  },
  {
   "cell_type": "code",
   "execution_count": 30,
   "metadata": {},
   "outputs": [
    {
     "data": {
      "text/html": [
       "<div>\n",
       "<style scoped>\n",
       "    .dataframe tbody tr th:only-of-type {\n",
       "        vertical-align: middle;\n",
       "    }\n",
       "\n",
       "    .dataframe tbody tr th {\n",
       "        vertical-align: top;\n",
       "    }\n",
       "\n",
       "    .dataframe thead th {\n",
       "        text-align: right;\n",
       "    }\n",
       "</style>\n",
       "<table border=\"1\" class=\"dataframe\">\n",
       "  <thead>\n",
       "    <tr style=\"text-align: right;\">\n",
       "      <th></th>\n",
       "      <th>decile</th>\n",
       "      <th>gain</th>\n",
       "      <th>gain_percentage</th>\n",
       "    </tr>\n",
       "  </thead>\n",
       "  <tbody>\n",
       "    <tr>\n",
       "      <th>0</th>\n",
       "      <td>1</td>\n",
       "      <td>1401</td>\n",
       "      <td>26.488939</td>\n",
       "    </tr>\n",
       "    <tr>\n",
       "      <th>1</th>\n",
       "      <td>2</td>\n",
       "      <td>755</td>\n",
       "      <td>40.763849</td>\n",
       "    </tr>\n",
       "    <tr>\n",
       "      <th>2</th>\n",
       "      <td>3</td>\n",
       "      <td>356</td>\n",
       "      <td>47.494801</td>\n",
       "    </tr>\n",
       "    <tr>\n",
       "      <th>3</th>\n",
       "      <td>4</td>\n",
       "      <td>318</td>\n",
       "      <td>53.507279</td>\n",
       "    </tr>\n",
       "    <tr>\n",
       "      <th>4</th>\n",
       "      <td>5</td>\n",
       "      <td>327</td>\n",
       "      <td>59.689922</td>\n",
       "    </tr>\n",
       "    <tr>\n",
       "      <th>5</th>\n",
       "      <td>6</td>\n",
       "      <td>331</td>\n",
       "      <td>65.948194</td>\n",
       "    </tr>\n",
       "    <tr>\n",
       "      <th>6</th>\n",
       "      <td>7</td>\n",
       "      <td>344</td>\n",
       "      <td>72.452259</td>\n",
       "    </tr>\n",
       "    <tr>\n",
       "      <th>7</th>\n",
       "      <td>8</td>\n",
       "      <td>406</td>\n",
       "      <td>80.128569</td>\n",
       "    </tr>\n",
       "    <tr>\n",
       "      <th>8</th>\n",
       "      <td>9</td>\n",
       "      <td>423</td>\n",
       "      <td>88.126300</td>\n",
       "    </tr>\n",
       "    <tr>\n",
       "      <th>9</th>\n",
       "      <td>10</td>\n",
       "      <td>628</td>\n",
       "      <td>100.000000</td>\n",
       "    </tr>\n",
       "  </tbody>\n",
       "</table>\n",
       "</div>"
      ],
      "text/plain": [
       "   decile  gain  gain_percentage\n",
       "0       1  1401        26.488939\n",
       "1       2   755        40.763849\n",
       "2       3   356        47.494801\n",
       "3       4   318        53.507279\n",
       "4       5   327        59.689922\n",
       "5       6   331        65.948194\n",
       "6       7   344        72.452259\n",
       "7       8   406        80.128569\n",
       "8       9   423        88.126300\n",
       "9      10   628       100.000000"
      ]
     },
     "execution_count": 30,
     "metadata": {},
     "output_type": "execute_result"
    }
   ],
   "source": [
    "gain_lift_df['gain_percentage']=(100 * gain_lift_df.gain.cumsum()/gain_lift_df.gain.sum())\n",
    "gain_lift_df"
   ]
  },
  {
   "cell_type": "code",
   "execution_count": 31,
   "metadata": {},
   "outputs": [
    {
     "data": {
      "text/plain": [
       "<function matplotlib.pyplot.show(close=None, block=None)>"
      ]
     },
     "execution_count": 31,
     "metadata": {},
     "output_type": "execute_result"
    },
    {
     "data": {
      "image/png": "[encoded data removed]",
      "text/plain": [
       "<Figure size 576x288 with 1 Axes>"
      ]
     },
     "metadata": {
      "needs_background": "light"
     },
     "output_type": "display_data"
    }
   ],
   "source": [
    "plt.figure(figsize = (8,4))\n",
    "plt.plot(gain_lift_df['decile'],gain_lift_df['gain_percentage'],'-')\n",
    "plt.show"
   ]
  },
  {
   "cell_type": "code",
   "execution_count": 44,
   "metadata": {},
   "outputs": [
    {
     "data": {
      "text/html": [
       "<div>\n",
       "<style scoped>\n",
       "    .dataframe tbody tr th:only-of-type {\n",
       "        vertical-align: middle;\n",
       "    }\n",
       "\n",
       "    .dataframe tbody tr th {\n",
       "        vertical-align: top;\n",
       "    }\n",
       "\n",
       "    .dataframe thead th {\n",
       "        text-align: right;\n",
       "    }\n",
       "</style>\n",
       "<table border=\"1\" class=\"dataframe\">\n",
       "  <thead>\n",
       "    <tr style=\"text-align: right;\">\n",
       "      <th></th>\n",
       "      <th>decile</th>\n",
       "      <th>gain</th>\n",
       "      <th>gain_percentage</th>\n",
       "      <th>lift</th>\n",
       "    </tr>\n",
       "  </thead>\n",
       "  <tbody>\n",
       "    <tr>\n",
       "      <th>0</th>\n",
       "      <td>1</td>\n",
       "      <td>1401</td>\n",
       "      <td>26.488939</td>\n",
       "      <td>0.264889</td>\n",
       "    </tr>\n",
       "    <tr>\n",
       "      <th>1</th>\n",
       "      <td>2</td>\n",
       "      <td>755</td>\n",
       "      <td>40.763849</td>\n",
       "      <td>0.203819</td>\n",
       "    </tr>\n",
       "    <tr>\n",
       "      <th>2</th>\n",
       "      <td>3</td>\n",
       "      <td>356</td>\n",
       "      <td>47.494801</td>\n",
       "      <td>0.158316</td>\n",
       "    </tr>\n",
       "    <tr>\n",
       "      <th>3</th>\n",
       "      <td>4</td>\n",
       "      <td>318</td>\n",
       "      <td>53.507279</td>\n",
       "      <td>0.133768</td>\n",
       "    </tr>\n",
       "    <tr>\n",
       "      <th>4</th>\n",
       "      <td>5</td>\n",
       "      <td>327</td>\n",
       "      <td>59.689922</td>\n",
       "      <td>0.119380</td>\n",
       "    </tr>\n",
       "    <tr>\n",
       "      <th>5</th>\n",
       "      <td>6</td>\n",
       "      <td>331</td>\n",
       "      <td>65.948194</td>\n",
       "      <td>0.109914</td>\n",
       "    </tr>\n",
       "    <tr>\n",
       "      <th>6</th>\n",
       "      <td>7</td>\n",
       "      <td>344</td>\n",
       "      <td>72.452259</td>\n",
       "      <td>0.103503</td>\n",
       "    </tr>\n",
       "    <tr>\n",
       "      <th>7</th>\n",
       "      <td>8</td>\n",
       "      <td>406</td>\n",
       "      <td>80.128569</td>\n",
       "      <td>0.100161</td>\n",
       "    </tr>\n",
       "    <tr>\n",
       "      <th>8</th>\n",
       "      <td>9</td>\n",
       "      <td>423</td>\n",
       "      <td>88.126300</td>\n",
       "      <td>0.097918</td>\n",
       "    </tr>\n",
       "    <tr>\n",
       "      <th>9</th>\n",
       "      <td>10</td>\n",
       "      <td>628</td>\n",
       "      <td>100.000000</td>\n",
       "      <td>0.100000</td>\n",
       "    </tr>\n",
       "  </tbody>\n",
       "</table>\n",
       "</div>"
      ],
      "text/plain": [
       "   decile  gain  gain_percentage      lift\n",
       "0       1  1401        26.488939  0.264889\n",
       "1       2   755        40.763849  0.203819\n",
       "2       3   356        47.494801  0.158316\n",
       "3       4   318        53.507279  0.133768\n",
       "4       5   327        59.689922  0.119380\n",
       "5       6   331        65.948194  0.109914\n",
       "6       7   344        72.452259  0.103503\n",
       "7       8   406        80.128569  0.100161\n",
       "8       9   423        88.126300  0.097918\n",
       "9      10   628       100.000000  0.100000"
      ]
     },
     "execution_count": 44,
     "metadata": {},
     "output_type": "execute_result"
    }
   ],
   "source": [
    "gain_lift_df['lift']= (gain_lift_df.gain_percentage/(gain_lift_df.decile*100))\n",
    "gain_lift_df"
   ]
  },
  {
   "cell_type": "code",
   "execution_count": 45,
   "metadata": {},
   "outputs": [
    {
     "data": {
      "image/png": "[encoded data removed]",
      "text/plain": [
       "<Figure size 576x288 with 1 Axes>"
      ]
     },
     "metadata": {
      "needs_background": "light"
     },
     "output_type": "display_data"
    }
   ],
   "source": [
    "plt.figure(figsize=(8,4))\n",
    "plt.plot(gain_lift_df['decile'],gain_lift_df['lift'],'-')\n",
    "plt.show()"
   ]
  },
  {
   "cell_type": "code",
   "execution_count": 46,
   "metadata": {},
   "outputs": [],
   "source": [
    "from sklearn.linear_model import LogisticRegression"
   ]
  },
  {
   "cell_type": "code",
   "execution_count": 47,
   "metadata": {
    "scrolled": true
   },
   "outputs": [
    {
     "name": "stderr",
     "output_type": "stream",
     "text": [
      "C:\\Users\\Anas\\anaconda3\\lib\\site-packages\\sklearn\\linear_model\\_logistic.py:762: ConvergenceWarning: lbfgs failed to converge (status=1):\n",
      "STOP: TOTAL NO. of ITERATIONS REACHED LIMIT.\n",
      "\n",
      "Increase the number of iterations (max_iter) or scale the data as shown in:\n",
      "    https://scikit-learn.org/stable/modules/preprocessing.html\n",
      "Please also refer to the documentation for alternative solver options:\n",
      "    https://scikit-learn.org/stable/modules/linear_model.html#logistic-regression\n",
      "  n_iter_i = _check_optimize_result(\n"
     ]
    },
    {
     "data": {
      "text/plain": [
       "LogisticRegression()"
      ]
     },
     "execution_count": 47,
     "metadata": {},
     "output_type": "execute_result"
    }
   ],
   "source": [
    "logit = LogisticRegression()\n",
    "logit.fit(X,Y)"
   ]
  },
  {
   "cell_type": "code",
   "execution_count": 48,
   "metadata": {},
   "outputs": [],
   "source": [
    "pred_y = logit.predict_proba(X)"
   ]
  },
  {
   "cell_type": "code",
   "execution_count": 49,
   "metadata": {},
   "outputs": [
    {
     "data": {
      "text/plain": [
       "array([[0.95360114, 0.04639886],\n",
       "       [0.97403607, 0.02596393],\n",
       "       [0.98099978, 0.01900022],\n",
       "       ...,\n",
       "       [0.34169379, 0.65830621],\n",
       "       [0.91508278, 0.08491722],\n",
       "       [0.90340879, 0.09659121]])"
      ]
     },
     "execution_count": 49,
     "metadata": {},
     "output_type": "execute_result"
    }
   ],
   "source": [
    "pred_y"
   ]
  },
  {
   "cell_type": "code",
   "execution_count": 50,
   "metadata": {},
   "outputs": [
    {
     "data": {
      "text/plain": [
       "numpy.ndarray"
      ]
     },
     "execution_count": 50,
     "metadata": {},
     "output_type": "execute_result"
    }
   ],
   "source": [
    "type(pred_y)"
   ]
  },
  {
   "cell_type": "code",
   "execution_count": 51,
   "metadata": {},
   "outputs": [],
   "source": [
    "y_pred_df_new = pd.DataFrame({'actual':Y, 'predicted_prob': pred_y[:, 1]})"
   ]
  },
  {
   "cell_type": "code",
   "execution_count": 52,
   "metadata": {},
   "outputs": [
    {
     "data": {
      "text/html": [
       "<div>\n",
       "<style scoped>\n",
       "    .dataframe tbody tr th:only-of-type {\n",
       "        vertical-align: middle;\n",
       "    }\n",
       "\n",
       "    .dataframe tbody tr th {\n",
       "        vertical-align: top;\n",
       "    }\n",
       "\n",
       "    .dataframe thead th {\n",
       "        text-align: right;\n",
       "    }\n",
       "</style>\n",
       "<table border=\"1\" class=\"dataframe\">\n",
       "  <thead>\n",
       "    <tr style=\"text-align: right;\">\n",
       "      <th></th>\n",
       "      <th>actual</th>\n",
       "      <th>predicted_prob</th>\n",
       "    </tr>\n",
       "  </thead>\n",
       "  <tbody>\n",
       "    <tr>\n",
       "      <th>0</th>\n",
       "      <td>0</td>\n",
       "      <td>0.046399</td>\n",
       "    </tr>\n",
       "    <tr>\n",
       "      <th>1</th>\n",
       "      <td>0</td>\n",
       "      <td>0.025964</td>\n",
       "    </tr>\n",
       "    <tr>\n",
       "      <th>2</th>\n",
       "      <td>0</td>\n",
       "      <td>0.019000</td>\n",
       "    </tr>\n",
       "    <tr>\n",
       "      <th>3</th>\n",
       "      <td>0</td>\n",
       "      <td>0.021479</td>\n",
       "    </tr>\n",
       "    <tr>\n",
       "      <th>4</th>\n",
       "      <td>0</td>\n",
       "      <td>0.107598</td>\n",
       "    </tr>\n",
       "  </tbody>\n",
       "</table>\n",
       "</div>"
      ],
      "text/plain": [
       "   actual  predicted_prob\n",
       "0       0        0.046399\n",
       "1       0        0.025964\n",
       "2       0        0.019000\n",
       "3       0        0.021479\n",
       "4       0        0.107598"
      ]
     },
     "execution_count": 52,
     "metadata": {},
     "output_type": "execute_result"
    }
   ],
   "source": [
    "y_pred_df_new.head()"
   ]
  },
  {
   "cell_type": "code",
   "execution_count": 53,
   "metadata": {},
   "outputs": [],
   "source": [
    "sorted_predict_df_new = y_pred_df_new[['predicted_prob','actual']].sort_values('predicted_prob',ascending =False)"
   ]
  },
  {
   "cell_type": "code",
   "execution_count": 54,
   "metadata": {},
   "outputs": [],
   "source": [
    "deciles_predict_df_new = get_deciles(sorted_predict_df_new)"
   ]
  },
  {
   "cell_type": "code",
   "execution_count": 55,
   "metadata": {},
   "outputs": [
    {
     "data": {
      "text/html": [
       "<div>\n",
       "<style scoped>\n",
       "    .dataframe tbody tr th:only-of-type {\n",
       "        vertical-align: middle;\n",
       "    }\n",
       "\n",
       "    .dataframe tbody tr th {\n",
       "        vertical-align: top;\n",
       "    }\n",
       "\n",
       "    .dataframe thead th {\n",
       "        text-align: right;\n",
       "    }\n",
       "</style>\n",
       "<table border=\"1\" class=\"dataframe\">\n",
       "  <thead>\n",
       "    <tr style=\"text-align: right;\">\n",
       "      <th></th>\n",
       "      <th>predicted_prob</th>\n",
       "      <th>actual</th>\n",
       "      <th>decile</th>\n",
       "    </tr>\n",
       "  </thead>\n",
       "  <tbody>\n",
       "    <tr>\n",
       "      <th>24148</th>\n",
       "      <td>1.000000</td>\n",
       "      <td>0</td>\n",
       "      <td>1</td>\n",
       "    </tr>\n",
       "    <tr>\n",
       "      <th>44602</th>\n",
       "      <td>0.999987</td>\n",
       "      <td>0</td>\n",
       "      <td>1</td>\n",
       "    </tr>\n",
       "    <tr>\n",
       "      <th>9947</th>\n",
       "      <td>0.999978</td>\n",
       "      <td>1</td>\n",
       "      <td>1</td>\n",
       "    </tr>\n",
       "    <tr>\n",
       "      <th>24095</th>\n",
       "      <td>0.999964</td>\n",
       "      <td>0</td>\n",
       "      <td>1</td>\n",
       "    </tr>\n",
       "    <tr>\n",
       "      <th>19639</th>\n",
       "      <td>0.999961</td>\n",
       "      <td>0</td>\n",
       "      <td>1</td>\n",
       "    </tr>\n",
       "    <tr>\n",
       "      <th>21113</th>\n",
       "      <td>0.999958</td>\n",
       "      <td>0</td>\n",
       "      <td>1</td>\n",
       "    </tr>\n",
       "    <tr>\n",
       "      <th>24044</th>\n",
       "      <td>0.999927</td>\n",
       "      <td>1</td>\n",
       "      <td>1</td>\n",
       "    </tr>\n",
       "    <tr>\n",
       "      <th>12347</th>\n",
       "      <td>0.999819</td>\n",
       "      <td>1</td>\n",
       "      <td>1</td>\n",
       "    </tr>\n",
       "    <tr>\n",
       "      <th>28872</th>\n",
       "      <td>0.999780</td>\n",
       "      <td>0</td>\n",
       "      <td>1</td>\n",
       "    </tr>\n",
       "    <tr>\n",
       "      <th>31337</th>\n",
       "      <td>0.999652</td>\n",
       "      <td>1</td>\n",
       "      <td>1</td>\n",
       "    </tr>\n",
       "    <tr>\n",
       "      <th>30154</th>\n",
       "      <td>0.999620</td>\n",
       "      <td>1</td>\n",
       "      <td>1</td>\n",
       "    </tr>\n",
       "    <tr>\n",
       "      <th>31500</th>\n",
       "      <td>0.999546</td>\n",
       "      <td>0</td>\n",
       "      <td>1</td>\n",
       "    </tr>\n",
       "    <tr>\n",
       "      <th>30747</th>\n",
       "      <td>0.999514</td>\n",
       "      <td>1</td>\n",
       "      <td>1</td>\n",
       "    </tr>\n",
       "    <tr>\n",
       "      <th>2386</th>\n",
       "      <td>0.999437</td>\n",
       "      <td>0</td>\n",
       "      <td>1</td>\n",
       "    </tr>\n",
       "    <tr>\n",
       "      <th>28696</th>\n",
       "      <td>0.999287</td>\n",
       "      <td>1</td>\n",
       "      <td>1</td>\n",
       "    </tr>\n",
       "    <tr>\n",
       "      <th>24054</th>\n",
       "      <td>0.999213</td>\n",
       "      <td>0</td>\n",
       "      <td>1</td>\n",
       "    </tr>\n",
       "    <tr>\n",
       "      <th>6451</th>\n",
       "      <td>0.998977</td>\n",
       "      <td>1</td>\n",
       "      <td>1</td>\n",
       "    </tr>\n",
       "    <tr>\n",
       "      <th>17642</th>\n",
       "      <td>0.998883</td>\n",
       "      <td>1</td>\n",
       "      <td>1</td>\n",
       "    </tr>\n",
       "    <tr>\n",
       "      <th>10726</th>\n",
       "      <td>0.998828</td>\n",
       "      <td>1</td>\n",
       "      <td>1</td>\n",
       "    </tr>\n",
       "    <tr>\n",
       "      <th>4382</th>\n",
       "      <td>0.998374</td>\n",
       "      <td>0</td>\n",
       "      <td>1</td>\n",
       "    </tr>\n",
       "  </tbody>\n",
       "</table>\n",
       "</div>"
      ],
      "text/plain": [
       "       predicted_prob  actual  decile\n",
       "24148        1.000000       0       1\n",
       "44602        0.999987       0       1\n",
       "9947         0.999978       1       1\n",
       "24095        0.999964       0       1\n",
       "19639        0.999961       0       1\n",
       "21113        0.999958       0       1\n",
       "24044        0.999927       1       1\n",
       "12347        0.999819       1       1\n",
       "28872        0.999780       0       1\n",
       "31337        0.999652       1       1\n",
       "30154        0.999620       1       1\n",
       "31500        0.999546       0       1\n",
       "30747        0.999514       1       1\n",
       "2386         0.999437       0       1\n",
       "28696        0.999287       1       1\n",
       "24054        0.999213       0       1\n",
       "6451         0.998977       1       1\n",
       "17642        0.998883       1       1\n",
       "10726        0.998828       1       1\n",
       "4382         0.998374       0       1"
      ]
     },
     "execution_count": 55,
     "metadata": {},
     "output_type": "execute_result"
    }
   ],
   "source": [
    "deciles_predict_df_new[0:20]"
   ]
  },
  {
   "cell_type": "code",
   "execution_count": 57,
   "metadata": {},
   "outputs": [],
   "source": [
    "gain_lift_df_new = pd.DataFrame(deciles_predict_df_new.groupby('decile')['actual'].\n",
    "sum()).reset_index()\n",
    "gain_lift_df_new.columns = ['decile', 'gain']"
   ]
  },
  {
   "cell_type": "code",
   "execution_count": 58,
   "metadata": {},
   "outputs": [],
   "source": [
    "gain_lift_df_new['gain_percentage']=(100*gain_lift_df_new.gain.cumsum()/gain_lift_df_new.gain.sum())"
   ]
  },
  {
   "cell_type": "code",
   "execution_count": 59,
   "metadata": {},
   "outputs": [
    {
     "data": {
      "text/html": [
       "<div>\n",
       "<style scoped>\n",
       "    .dataframe tbody tr th:only-of-type {\n",
       "        vertical-align: middle;\n",
       "    }\n",
       "\n",
       "    .dataframe tbody tr th {\n",
       "        vertical-align: top;\n",
       "    }\n",
       "\n",
       "    .dataframe thead th {\n",
       "        text-align: right;\n",
       "    }\n",
       "</style>\n",
       "<table border=\"1\" class=\"dataframe\">\n",
       "  <thead>\n",
       "    <tr style=\"text-align: right;\">\n",
       "      <th></th>\n",
       "      <th>decile</th>\n",
       "      <th>gain</th>\n",
       "      <th>gain_percentage</th>\n",
       "    </tr>\n",
       "  </thead>\n",
       "  <tbody>\n",
       "    <tr>\n",
       "      <th>0</th>\n",
       "      <td>1</td>\n",
       "      <td>2294</td>\n",
       "      <td>43.373038</td>\n",
       "    </tr>\n",
       "    <tr>\n",
       "      <th>1</th>\n",
       "      <td>2</td>\n",
       "      <td>1225</td>\n",
       "      <td>66.534317</td>\n",
       "    </tr>\n",
       "    <tr>\n",
       "      <th>2</th>\n",
       "      <td>3</td>\n",
       "      <td>704</td>\n",
       "      <td>79.844961</td>\n",
       "    </tr>\n",
       "    <tr>\n",
       "      <th>3</th>\n",
       "      <td>4</td>\n",
       "      <td>367</td>\n",
       "      <td>86.783891</td>\n",
       "    </tr>\n",
       "    <tr>\n",
       "      <th>4</th>\n",
       "      <td>5</td>\n",
       "      <td>244</td>\n",
       "      <td>91.397240</td>\n",
       "    </tr>\n",
       "    <tr>\n",
       "      <th>5</th>\n",
       "      <td>6</td>\n",
       "      <td>180</td>\n",
       "      <td>94.800529</td>\n",
       "    </tr>\n",
       "    <tr>\n",
       "      <th>6</th>\n",
       "      <td>7</td>\n",
       "      <td>121</td>\n",
       "      <td>97.088296</td>\n",
       "    </tr>\n",
       "    <tr>\n",
       "      <th>7</th>\n",
       "      <td>8</td>\n",
       "      <td>62</td>\n",
       "      <td>98.260541</td>\n",
       "    </tr>\n",
       "    <tr>\n",
       "      <th>8</th>\n",
       "      <td>9</td>\n",
       "      <td>40</td>\n",
       "      <td>99.016827</td>\n",
       "    </tr>\n",
       "    <tr>\n",
       "      <th>9</th>\n",
       "      <td>10</td>\n",
       "      <td>52</td>\n",
       "      <td>100.000000</td>\n",
       "    </tr>\n",
       "  </tbody>\n",
       "</table>\n",
       "</div>"
      ],
      "text/plain": [
       "   decile  gain  gain_percentage\n",
       "0       1  2294        43.373038\n",
       "1       2  1225        66.534317\n",
       "2       3   704        79.844961\n",
       "3       4   367        86.783891\n",
       "4       5   244        91.397240\n",
       "5       6   180        94.800529\n",
       "6       7   121        97.088296\n",
       "7       8    62        98.260541\n",
       "8       9    40        99.016827\n",
       "9      10    52       100.000000"
      ]
     },
     "execution_count": 59,
     "metadata": {},
     "output_type": "execute_result"
    }
   ],
   "source": [
    "gain_lift_df_new"
   ]
  },
  {
   "cell_type": "code",
   "execution_count": 63,
   "metadata": {},
   "outputs": [
    {
     "data": {
      "text/plain": [
       "<AxesSubplot:title={'center':'Cumulative Gains Curve'}, xlabel='Percentage of sample', ylabel='Gain'>"
      ]
     },
     "execution_count": 63,
     "metadata": {},
     "output_type": "execute_result"
    },
    {
     "data": {
      "image/png": "[encoded data removed]",
      "text/plain": [
       "<Figure size 432x288 with 1 Axes>"
      ]
     },
     "metadata": {
      "needs_background": "light"
     },
     "output_type": "display_data"
    }
   ],
   "source": [
    "import scikitplot as skplt\n",
    "#following line is used to find Gains Curve\n",
    "skplt.metrics.plot_cumulative_gain(Y,pred_y)"
   ]
  },
  {
   "cell_type": "code",
   "execution_count": 65,
   "metadata": {},
   "outputs": [
    {
     "data": {
      "text/plain": [
       "<AxesSubplot:title={'center':'Lift Curve'}, xlabel='Percentage of sample', ylabel='Lift'>"
      ]
     },
     "execution_count": 65,
     "metadata": {},
     "output_type": "execute_result"
    },
    {
     "data": {
      "image/png": "[encoded data removed]",
      "text/plain": [
       "<Figure size 432x288 with 1 Axes>"
      ]
     },
     "metadata": {
      "needs_background": "light"
     },
     "output_type": "display_data"
    }
   ],
   "source": [
    "skplt.metrics.plot_lift_curve(Y,pred_y)"
   ]
  }
 ],
 "metadata": {
  "kernelspec": {
   "display_name": "Python 3",
   "language": "python",
   "name": "python3"
  },
  "language_info": {
   "codemirror_mode": {
    "name": "ipython",
    "version": 3
   },
   "file_extension": ".py",
   "mimetype": "text/x-python",
   "name": "python",
   "nbconvert_exporter": "python",
   "pygments_lexer": "ipython3",
   "version": "3.8.5"
  }
 },
 "nbformat": 4,
 "nbformat_minor": 4
}
